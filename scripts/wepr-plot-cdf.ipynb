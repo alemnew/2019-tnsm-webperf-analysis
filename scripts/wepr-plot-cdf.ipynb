{
 "cells": [
  {
   "cell_type": "code",
   "execution_count": 1,
   "metadata": {},
   "outputs": [],
   "source": [
    "import numpy as np\n",
    "import pandas as pd\n",
    "import matplotlib.pyplot as plt\n",
    "import json\n",
    "import requests \n",
    "from imp import reload \n",
    "import Util; reload(Util)\n",
    "from matplotlib.ticker import FuncFormatter\n",
    "import matplotlib.ticker as ticker\n",
    "import warnings\n",
    "import Cdf\n",
    "import seaborn as sns\n",
    "import Pmf\n",
    "warnings.filterwarnings('ignore')\n",
    "from scipy import stats\n",
    "\n",
    "# %matplotlib inline\n",
    "# from IPython.core.interactiveshell import InteractiveShell\n",
    "# InteractiveShell.ast_node_interactivity = \"all\""
   ]
  },
  {
   "cell_type": "code",
   "execution_count": 2,
   "metadata": {},
   "outputs": [],
   "source": [
    "data = pd.read_csv('../dataset/curr_webperf.csv', sep = ',', encoding = \"ISO-8859-1\")"
   ]
  },
  {
   "cell_type": "code",
   "execution_count": 3,
   "metadata": {},
   "outputs": [],
   "source": [
    "# data prepareation \n",
    "data['dtime'] = data['dtime'].apply(Util.round_time_to_day)\n",
    "data = data[data['dtime'] >= '2014-01-01']\n",
    "data = data[data['rendering_time_100'] > 100]\n",
    "data = data[data['rendering_time_100'] < 20100]\n",
    "data = data[data['page_load_time_100'] > 100]\n",
    "data = data[data['page_load_time_100'] < 20100]"
   ]
  },
  {
   "cell_type": "code",
   "execution_count": 4,
   "metadata": {},
   "outputs": [
    {
     "data": {
      "text/plain": [
       "68"
      ]
     },
     "execution_count": 4,
     "metadata": {},
     "output_type": "execute_result"
    }
   ],
   "source": [
    "len(set(data['unit_id']))"
   ]
  },
  {
   "cell_type": "code",
   "execution_count": 5,
   "metadata": {},
   "outputs": [
    {
     "data": {
      "text/html": [
       "<div>\n",
       "<style scoped>\n",
       "    .dataframe tbody tr th:only-of-type {\n",
       "        vertical-align: middle;\n",
       "    }\n",
       "\n",
       "    .dataframe tbody tr th {\n",
       "        vertical-align: top;\n",
       "    }\n",
       "\n",
       "    .dataframe thead th {\n",
       "        text-align: right;\n",
       "    }\n",
       "</style>\n",
       "<table border=\"1\" class=\"dataframe\">\n",
       "  <thead>\n",
       "    <tr style=\"text-align: right;\">\n",
       "      <th></th>\n",
       "      <th>unit_id</th>\n",
       "      <th>dtime</th>\n",
       "      <th>target</th>\n",
       "      <th>cdn</th>\n",
       "      <th>http_elements</th>\n",
       "      <th>https_elements</th>\n",
       "      <th>http_redirects</th>\n",
       "      <th>dns_ok_n</th>\n",
       "      <th>dns_error_n</th>\n",
       "      <th>avg_dns_ok_time</th>\n",
       "      <th>...</th>\n",
       "      <th>rendering_time_40</th>\n",
       "      <th>rendering_time_50</th>\n",
       "      <th>rendering_time_60</th>\n",
       "      <th>rendering_time_70</th>\n",
       "      <th>rendering_time_80</th>\n",
       "      <th>rendering_time_90</th>\n",
       "      <th>rendering_time_100</th>\n",
       "      <th>successes</th>\n",
       "      <th>failures</th>\n",
       "      <th>location_id</th>\n",
       "    </tr>\n",
       "  </thead>\n",
       "  <tbody>\n",
       "    <tr>\n",
       "      <th>0</th>\n",
       "      <td>195656</td>\n",
       "      <td>2015-12-12</td>\n",
       "      <td>http://www.bbc.com/</td>\n",
       "      <td>TOTAL</td>\n",
       "      <td>62</td>\n",
       "      <td>1</td>\n",
       "      <td>1</td>\n",
       "      <td>12</td>\n",
       "      <td>0</td>\n",
       "      <td>59.739254</td>\n",
       "      <td>...</td>\n",
       "      <td>1200.0</td>\n",
       "      <td>1200.0</td>\n",
       "      <td>1200.0</td>\n",
       "      <td>1200.0</td>\n",
       "      <td>1200.0</td>\n",
       "      <td>1200.0</td>\n",
       "      <td>1200.0</td>\n",
       "      <td>1</td>\n",
       "      <td>0</td>\n",
       "      <td>597540</td>\n",
       "    </tr>\n",
       "    <tr>\n",
       "      <th>1</th>\n",
       "      <td>195656</td>\n",
       "      <td>2015-12-12</td>\n",
       "      <td>http://www.ebay.com/</td>\n",
       "      <td>TOTAL</td>\n",
       "      <td>177</td>\n",
       "      <td>0</td>\n",
       "      <td>6</td>\n",
       "      <td>16</td>\n",
       "      <td>0</td>\n",
       "      <td>86.201569</td>\n",
       "      <td>...</td>\n",
       "      <td>600.0</td>\n",
       "      <td>600.0</td>\n",
       "      <td>600.0</td>\n",
       "      <td>600.0</td>\n",
       "      <td>600.0</td>\n",
       "      <td>600.0</td>\n",
       "      <td>600.0</td>\n",
       "      <td>1</td>\n",
       "      <td>0</td>\n",
       "      <td>597540</td>\n",
       "    </tr>\n",
       "    <tr>\n",
       "      <th>2</th>\n",
       "      <td>195656</td>\n",
       "      <td>2015-12-12</td>\n",
       "      <td>http://www.reddit.com/</td>\n",
       "      <td>TOTAL</td>\n",
       "      <td>38</td>\n",
       "      <td>0</td>\n",
       "      <td>2</td>\n",
       "      <td>7</td>\n",
       "      <td>0</td>\n",
       "      <td>51.046146</td>\n",
       "      <td>...</td>\n",
       "      <td>700.0</td>\n",
       "      <td>700.0</td>\n",
       "      <td>700.0</td>\n",
       "      <td>700.0</td>\n",
       "      <td>700.0</td>\n",
       "      <td>700.0</td>\n",
       "      <td>700.0</td>\n",
       "      <td>1</td>\n",
       "      <td>0</td>\n",
       "      <td>597540</td>\n",
       "    </tr>\n",
       "    <tr>\n",
       "      <th>4</th>\n",
       "      <td>195656</td>\n",
       "      <td>2015-12-12</td>\n",
       "      <td>http://www.bbc.com/</td>\n",
       "      <td>TOTAL</td>\n",
       "      <td>62</td>\n",
       "      <td>1</td>\n",
       "      <td>1</td>\n",
       "      <td>12</td>\n",
       "      <td>0</td>\n",
       "      <td>60.760162</td>\n",
       "      <td>...</td>\n",
       "      <td>1400.0</td>\n",
       "      <td>1400.0</td>\n",
       "      <td>1400.0</td>\n",
       "      <td>1400.0</td>\n",
       "      <td>1400.0</td>\n",
       "      <td>1400.0</td>\n",
       "      <td>1400.0</td>\n",
       "      <td>1</td>\n",
       "      <td>0</td>\n",
       "      <td>597540</td>\n",
       "    </tr>\n",
       "    <tr>\n",
       "      <th>5</th>\n",
       "      <td>195656</td>\n",
       "      <td>2015-12-12</td>\n",
       "      <td>http://www.reddit.com/</td>\n",
       "      <td>TOTAL</td>\n",
       "      <td>33</td>\n",
       "      <td>0</td>\n",
       "      <td>2</td>\n",
       "      <td>7</td>\n",
       "      <td>0</td>\n",
       "      <td>52.803001</td>\n",
       "      <td>...</td>\n",
       "      <td>1000.0</td>\n",
       "      <td>1000.0</td>\n",
       "      <td>1000.0</td>\n",
       "      <td>1000.0</td>\n",
       "      <td>1000.0</td>\n",
       "      <td>1000.0</td>\n",
       "      <td>1000.0</td>\n",
       "      <td>1</td>\n",
       "      <td>0</td>\n",
       "      <td>597540</td>\n",
       "    </tr>\n",
       "  </tbody>\n",
       "</table>\n",
       "<p>5 rows × 54 columns</p>\n",
       "</div>"
      ],
      "text/plain": [
       "   unit_id       dtime                  target    cdn  http_elements  \\\n",
       "0   195656  2015-12-12     http://www.bbc.com/  TOTAL             62   \n",
       "1   195656  2015-12-12    http://www.ebay.com/  TOTAL            177   \n",
       "2   195656  2015-12-12  http://www.reddit.com/  TOTAL             38   \n",
       "4   195656  2015-12-12     http://www.bbc.com/  TOTAL             62   \n",
       "5   195656  2015-12-12  http://www.reddit.com/  TOTAL             33   \n",
       "\n",
       "   https_elements  http_redirects  dns_ok_n  dns_error_n  avg_dns_ok_time  \\\n",
       "0               1               1        12            0        59.739254   \n",
       "1               0               6        16            0        86.201569   \n",
       "2               0               2         7            0        51.046146   \n",
       "4               1               1        12            0        60.760162   \n",
       "5               0               2         7            0        52.803001   \n",
       "\n",
       "      ...       rendering_time_40  rendering_time_50  rendering_time_60  \\\n",
       "0     ...                  1200.0             1200.0             1200.0   \n",
       "1     ...                   600.0              600.0              600.0   \n",
       "2     ...                   700.0              700.0              700.0   \n",
       "4     ...                  1400.0             1400.0             1400.0   \n",
       "5     ...                  1000.0             1000.0             1000.0   \n",
       "\n",
       "   rendering_time_70  rendering_time_80  rendering_time_90  \\\n",
       "0             1200.0             1200.0             1200.0   \n",
       "1              600.0              600.0              600.0   \n",
       "2              700.0              700.0              700.0   \n",
       "4             1400.0             1400.0             1400.0   \n",
       "5             1000.0             1000.0             1000.0   \n",
       "\n",
       "   rendering_time_100  successes  failures  location_id  \n",
       "0              1200.0          1         0       597540  \n",
       "1               600.0          1         0       597540  \n",
       "2               700.0          1         0       597540  \n",
       "4              1400.0          1         0       597540  \n",
       "5              1000.0          1         0       597540  \n",
       "\n",
       "[5 rows x 54 columns]"
      ]
     },
     "execution_count": 5,
     "metadata": {},
     "output_type": "execute_result"
    }
   ],
   "source": [
    "data.head()"
   ]
  },
  {
   "cell_type": "code",
   "execution_count": 6,
   "metadata": {},
   "outputs": [],
   "source": [
    "targets = set(data['target'])"
   ]
  },
  {
   "cell_type": "code",
   "execution_count": 7,
   "metadata": {},
   "outputs": [
    {
     "name": "stdout",
     "output_type": "stream",
     "text": [
      "Website & Med & Mean\n",
      "www.sina.com.cn & 2.00 & 3.27 \n",
      "www.ebay.com & 1.30 & 2.59 \n",
      "www.reddit.com & 0.80 & 1.34 \n",
      "www.bbc.com & 1.20 & 1.60 \n"
     ]
    }
   ],
   "source": [
    "print('Website & Med & Mean')\n",
    "for t in targets:\n",
    "    w = data[data['target'] == t]\n",
    "    print(\"%s & %.2f & %.2f \" %(Util.get_base_url(t),\n",
    "                               np.median(w['rendering_time_100'])/1000 ,np.mean(w['rendering_time_100'])/1000))"
   ]
  },
  {
   "cell_type": "code",
   "execution_count": 8,
   "metadata": {},
   "outputs": [
    {
     "name": "stdout",
     "output_type": "stream",
     "text": [
      "www.sina.com.cn: # objects =  125, Size = 16631.23\n",
      "www.ebay.com: # objects =  176, Size = 17967.33\n",
      "www.reddit.com: # objects =  36, Size = 29530.36\n",
      "www.bbc.com: # objects =  62, Size = 23568.41\n"
     ]
    }
   ],
   "source": [
    "for t in targets:\n",
    "    w = data[data['target'] == t]\n",
    "    print(\"%s: # objects =  %d, Size = %.2f\" %(Util.get_base_url(t), np.median(w['http_elements']) + np.median(w['https_elements']) ,\n",
    "                                               np.median(w['avg_http_ok_download_size']) + np.median(w['avg_https_ok_download_size'])))"
   ]
  },
  {
   "cell_type": "code",
   "execution_count": 9,
   "metadata": {},
   "outputs": [],
   "source": [
    "websites = Util.tables_site(data)\n",
    "download_time = data['page_load_time_100'].div(1000)\n",
    "rendering_time = data['rendering_time_100'].div(1000)\n",
    "avg_ttfb = data['med_body_latency'].div(1000)"
   ]
  },
  {
   "cell_type": "code",
   "execution_count": 10,
   "metadata": {},
   "outputs": [],
   "source": [
    "cdwnt = Cdf.MakeCdfFromList(download_time)\n",
    "crndt = Cdf.MakeCdfFromList(rendering_time)\n",
    "ctffb = Cdf.MakeCdfFromList(avg_ttfb)"
   ]
  },
  {
   "cell_type": "code",
   "execution_count": 11,
   "metadata": {},
   "outputs": [
    {
     "name": "stdout",
     "output_type": "stream",
     "text": [
      "PLT vs REND: 0.446\n",
      "PLT vs TTFB: 0.554\n",
      "REND vs TTFB: 0.279\n"
     ]
    }
   ],
   "source": [
    "# pearson Correlation \n",
    "dwn_rnd_data = data[['page_load_time_100', 'rendering_time_100', 'med_body_latency']]\n",
    "dwn_rnd_data['dwn_rend_diff'] = dwn_rnd_data['page_load_time_100'] - dwn_rnd_data['rendering_time_100']\n",
    "cdiff = Cdf.MakeCdfFromList(dwn_rnd_data['dwn_rend_diff'].div(1000))\n",
    "pearson_corr = dwn_rnd_data.corr(method='pearson')\n",
    "print(\"PLT vs REND: %.3f\" %pearson_corr['page_load_time_100']['rendering_time_100'])\n",
    "print(\"PLT vs TTFB: %.3f\" %pearson_corr['page_load_time_100']['med_body_latency'])\n",
    "print(\"REND vs TTFB: %.3f\" %pearson_corr['med_body_latency']['rendering_time_100'])"
   ]
  },
  {
   "cell_type": "code",
   "execution_count": 12,
   "metadata": {},
   "outputs": [
    {
     "data": {
      "text/html": [
       "<div>\n",
       "<style scoped>\n",
       "    .dataframe tbody tr th:only-of-type {\n",
       "        vertical-align: middle;\n",
       "    }\n",
       "\n",
       "    .dataframe tbody tr th {\n",
       "        vertical-align: top;\n",
       "    }\n",
       "\n",
       "    .dataframe thead th {\n",
       "        text-align: right;\n",
       "    }\n",
       "</style>\n",
       "<table border=\"1\" class=\"dataframe\">\n",
       "  <thead>\n",
       "    <tr style=\"text-align: right;\">\n",
       "      <th></th>\n",
       "      <th>med_body_latency</th>\n",
       "      <th>page_load_time_100</th>\n",
       "      <th>rendering_time_100</th>\n",
       "      <th>dwn_rend_diff</th>\n",
       "    </tr>\n",
       "  </thead>\n",
       "  <tbody>\n",
       "    <tr>\n",
       "      <th>0.10</th>\n",
       "      <td>58.758600</td>\n",
       "      <td>1040.418603</td>\n",
       "      <td>400.0</td>\n",
       "      <td>-585.231201</td>\n",
       "    </tr>\n",
       "    <tr>\n",
       "      <th>0.20</th>\n",
       "      <td>74.034198</td>\n",
       "      <td>1367.144556</td>\n",
       "      <td>600.0</td>\n",
       "      <td>-4.224780</td>\n",
       "    </tr>\n",
       "    <tr>\n",
       "      <th>0.50</th>\n",
       "      <td>135.186996</td>\n",
       "      <td>2567.690918</td>\n",
       "      <td>1200.0</td>\n",
       "      <td>1106.262939</td>\n",
       "    </tr>\n",
       "    <tr>\n",
       "      <th>0.75</th>\n",
       "      <td>181.521500</td>\n",
       "      <td>5223.300781</td>\n",
       "      <td>2200.0</td>\n",
       "      <td>2983.924072</td>\n",
       "    </tr>\n",
       "    <tr>\n",
       "      <th>0.90</th>\n",
       "      <td>288.426397</td>\n",
       "      <td>10180.327539</td>\n",
       "      <td>4800.0</td>\n",
       "      <td>6801.123926</td>\n",
       "    </tr>\n",
       "  </tbody>\n",
       "</table>\n",
       "</div>"
      ],
      "text/plain": [
       "      med_body_latency  page_load_time_100  rendering_time_100  dwn_rend_diff\n",
       "0.10         58.758600         1040.418603               400.0    -585.231201\n",
       "0.20         74.034198         1367.144556               600.0      -4.224780\n",
       "0.50        135.186996         2567.690918              1200.0    1106.262939\n",
       "0.75        181.521500         5223.300781              2200.0    2983.924072\n",
       "0.90        288.426397        10180.327539              4800.0    6801.123926"
      ]
     },
     "execution_count": 12,
     "metadata": {},
     "output_type": "execute_result"
    }
   ],
   "source": [
    "dwn_rnd_data[['med_body_latency', 'page_load_time_100', 'rendering_time_100', \\\n",
    "              'dwn_rend_diff']].quantile([.1,0.2,0.5,.75,.9])"
   ]
  },
  {
   "cell_type": "code",
   "execution_count": 13,
   "metadata": {},
   "outputs": [
    {
     "data": {
      "text/html": [
       "<div>\n",
       "<style scoped>\n",
       "    .dataframe tbody tr th:only-of-type {\n",
       "        vertical-align: middle;\n",
       "    }\n",
       "\n",
       "    .dataframe tbody tr th {\n",
       "        vertical-align: top;\n",
       "    }\n",
       "\n",
       "    .dataframe thead th {\n",
       "        text-align: right;\n",
       "    }\n",
       "</style>\n",
       "<table border=\"1\" class=\"dataframe\">\n",
       "  <thead>\n",
       "    <tr style=\"text-align: right;\">\n",
       "      <th></th>\n",
       "      <th>med_body_latency</th>\n",
       "      <th>page_load_time_100</th>\n",
       "      <th>rendering_time_100</th>\n",
       "      <th>dwn_rend_diff</th>\n",
       "    </tr>\n",
       "  </thead>\n",
       "  <tbody>\n",
       "    <tr>\n",
       "      <th>count</th>\n",
       "      <td>100273.000000</td>\n",
       "      <td>100273.000000</td>\n",
       "      <td>100273.000000</td>\n",
       "      <td>100273.000000</td>\n",
       "    </tr>\n",
       "    <tr>\n",
       "      <th>mean</th>\n",
       "      <td>161.394364</td>\n",
       "      <td>4197.003621</td>\n",
       "      <td>2020.403299</td>\n",
       "      <td>2176.600322</td>\n",
       "    </tr>\n",
       "    <tr>\n",
       "      <th>std</th>\n",
       "      <td>133.538516</td>\n",
       "      <td>4033.553120</td>\n",
       "      <td>2563.248487</td>\n",
       "      <td>3691.237232</td>\n",
       "    </tr>\n",
       "    <tr>\n",
       "      <th>min</th>\n",
       "      <td>0.000000</td>\n",
       "      <td>282.032990</td>\n",
       "      <td>200.000000</td>\n",
       "      <td>-17565.808960</td>\n",
       "    </tr>\n",
       "    <tr>\n",
       "      <th>25%</th>\n",
       "      <td>79.890999</td>\n",
       "      <td>1513.041016</td>\n",
       "      <td>700.000000</td>\n",
       "      <td>185.501953</td>\n",
       "    </tr>\n",
       "    <tr>\n",
       "      <th>50%</th>\n",
       "      <td>135.186996</td>\n",
       "      <td>2567.690918</td>\n",
       "      <td>1200.000000</td>\n",
       "      <td>1106.262939</td>\n",
       "    </tr>\n",
       "    <tr>\n",
       "      <th>75%</th>\n",
       "      <td>181.521500</td>\n",
       "      <td>5223.300781</td>\n",
       "      <td>2200.000000</td>\n",
       "      <td>2983.924072</td>\n",
       "    </tr>\n",
       "    <tr>\n",
       "      <th>max</th>\n",
       "      <td>1828.510986</td>\n",
       "      <td>20098.292969</td>\n",
       "      <td>20000.000000</td>\n",
       "      <td>19898.292969</td>\n",
       "    </tr>\n",
       "  </tbody>\n",
       "</table>\n",
       "</div>"
      ],
      "text/plain": [
       "       med_body_latency  page_load_time_100  rendering_time_100  dwn_rend_diff\n",
       "count     100273.000000       100273.000000       100273.000000  100273.000000\n",
       "mean         161.394364         4197.003621         2020.403299    2176.600322\n",
       "std          133.538516         4033.553120         2563.248487    3691.237232\n",
       "min            0.000000          282.032990          200.000000  -17565.808960\n",
       "25%           79.890999         1513.041016          700.000000     185.501953\n",
       "50%          135.186996         2567.690918         1200.000000    1106.262939\n",
       "75%          181.521500         5223.300781         2200.000000    2983.924072\n",
       "max         1828.510986        20098.292969        20000.000000   19898.292969"
      ]
     },
     "execution_count": 13,
     "metadata": {},
     "output_type": "execute_result"
    }
   ],
   "source": [
    "dwn_rnd_data[['med_body_latency', 'page_load_time_100', 'rendering_time_100', \\\n",
    "              'dwn_rend_diff']].describe()"
   ]
  },
  {
   "cell_type": "code",
   "execution_count": 14,
   "metadata": {},
   "outputs": [
    {
     "data": {
      "image/png": "[encoded data removed]",
      "text/plain": [
       "<Figure size 360x144 with 2 Axes>"
      ]
     },
     "metadata": {
      "needs_background": "light"
     },
     "output_type": "display_data"
    }
   ],
   "source": [
    "# CDF of two values \n",
    "fig = plt.figure(figsize=(5, 2))\n",
    "plt.rcParams['font.size'] = 12\n",
    "\n",
    "yticks = np.arange(0,1.1,0.25)\n",
    "\n",
    "plt.plot(cdwnt.xs, cdwnt.ps, marker='s', linestyle = '-', linewidth=2.0, markersize=0.3, \n",
    "         fillstyle='none', color = 'black', markevery=1500)\n",
    "plt.plot(crndt.xs, crndt.ps, marker='o',linestyle = '--', linewidth=2.0, markersize=0.3, \n",
    "         fillstyle='none', color = 'black', markevery=1501)\n",
    "\n",
    "ylab = \"CDF [%.2f M]\" %(len(cdwnt.xs) / 1000000)\n",
    "\n",
    "ax = fig.axes[0]\n",
    "# ax.grid(True)\n",
    "ax.set_yticks(yticks)\n",
    "ax.set_xlim([0,20])\n",
    "ax.set_ylim([0,1.05])\n",
    "# ax.set_xscale('symlog', basex = 2)\n",
    "ax.set_xlabel('Time (s)', fontsize=12)\n",
    "ax.set_ylabel(ylab, fontsize=12)\n",
    "\n",
    "leg = plt.legend([\"Page load time\",  \"Rendering time\"],\n",
    "           fontsize=12, markerscale=2., loc='best', frameon=False)\n",
    "for legobj in leg.legendHandles:\n",
    "    legobj.set_linewidth(1.5)\n",
    "    legobj.set_markersize(0.5)\n",
    "leg.get_frame().set_facecolor('none')\n",
    "\n",
    "ax.spines['right'].set_color('none')\n",
    "ax.spines['top'].set_color('none')\n",
    "ax.yaxis.set_ticks_position('left')\n",
    "ax.xaxis.set_ticks_position('bottom')\n",
    "ax.spines['bottom'].set_position(('axes', -0.05))\n",
    "ax.spines['left'].set_position(('axes', -0.05))\n",
    "\n",
    "ax3 = ax.twinx()\n",
    "ax3.spines['right'].set_color('none')\n",
    "ax3.spines['top'].set_color('none')\n",
    "ax3.spines['left'].set_color('none')\n",
    "ax3.spines['bottom'].set_color('none')\n",
    "ax3.yaxis.set_ticks_position('none')\n",
    "ax3.set_ylabel('[Mar \\'15 - Dec \\'15]')\n",
    "plt.setp(ax3.get_yticklabels(), visible=False)\n",
    "\n",
    "# plt.title('Download and Rendering time', fontsize=12, y=1.0)\n",
    "plt.savefig('../gfx/wepr_download_rendering_cdf.pdf', format='pdf', bbox_inches='tight')"
   ]
  },
  {
   "cell_type": "code",
   "execution_count": null,
   "metadata": {},
   "outputs": [],
   "source": []
  },
  {
   "cell_type": "code",
   "execution_count": 15,
   "metadata": {},
   "outputs": [
    {
     "data": {
      "image/png": "[encoded data removed]",
      "text/plain": [
       "<Figure size 288x108 with 2 Axes>"
      ]
     },
     "metadata": {
      "needs_background": "light"
     },
     "output_type": "display_data"
    }
   ],
   "source": [
    "# CDF of the differnnce between download and rendering time\n",
    "cdiff = Cdf.MakeCdfFromList(dwn_rnd_data['dwn_rend_diff'].div(1000))\n",
    "\n",
    "fig = plt.figure(figsize=(4, 1.5))\n",
    "plt.rcParams['font.size'] = 12\n",
    "\n",
    "yticks = np.arange(0,1.1,0.25)\n",
    "\n",
    "plt.plot(cdiff.xs, cdiff.ps, marker='s', linestyle = '--', linewidth=2.0, markersize=0.3, \n",
    "         fillstyle='none', color = 'black', markevery=1500)\n",
    "ylab = \"CDF [%.2f M]\" %(len(cdiff.xs) / 1000000)\n",
    "\n",
    "ax = fig.axes[0]\n",
    "ax.grid(False)\n",
    "ax.set_yticks(yticks)\n",
    "ax.set_xlim([-5,16])\n",
    "ax.set_ylim([0,1.05])\n",
    "ax.set_xscale('linear')\n",
    "ax.set_xlabel(r'$\\Delta $ Time (s)', fontsize=12)\n",
    "ax.set_ylabel(ylab, fontsize=12)\n",
    "\n",
    "# leg = plt.legend([\"Difference\"],\n",
    "#            fontsize=12, markerscale=2., loc='best', frameon=False)\n",
    "for legobj in leg.legendHandles:\n",
    "    legobj.set_linewidth(1.5)\n",
    "    legobj.set_markersize(0.5)\n",
    "leg.get_frame().set_facecolor('none')\n",
    "\n",
    "ax.spines['right'].set_color('none')\n",
    "ax.spines['top'].set_color('none')\n",
    "ax.yaxis.set_ticks_position('left')\n",
    "ax.xaxis.set_ticks_position('bottom')\n",
    "ax.spines['bottom'].set_position(('axes', -0.05))\n",
    "ax.spines['left'].set_position(('axes', -0.05))\n",
    "\n",
    "ax3 = ax.twinx()\n",
    "ax3.spines['right'].set_color('none')\n",
    "ax3.spines['top'].set_color('none')\n",
    "ax3.spines['left'].set_color('none')\n",
    "ax3.spines['bottom'].set_color('none')\n",
    "ax3.yaxis.set_ticks_position('none')\n",
    "ax3.set_ylabel('[Mar \\'15 - Dec \\'15]')\n",
    "plt.setp(ax3.get_yticklabels(), visible=False)\n",
    "ax.axvline(0, color='k', linestyle='dashed', linewidth=0.5)\n",
    "\n",
    "#plt.title('Difference Download and Rendering time', fontsize=12, y=1.0)\n",
    "plt.savefig('../gfx/wepr_download_rendering_diff_cdf.pdf', format='pdf', bbox_inches='tight')"
   ]
  },
  {
   "cell_type": "code",
   "execution_count": 16,
   "metadata": {},
   "outputs": [
    {
     "data": {
      "image/png": "[encoded data removed]",
      "text/plain": [
       "<Figure size 360x720 with 1 Axes>"
      ]
     },
     "metadata": {
      "needs_background": "light"
     },
     "output_type": "display_data"
    }
   ],
   "source": [
    "fig = plt.figure(figsize=(5, 10))\n",
    "plt.rcParams['font.size'] = 12\n",
    "\n",
    "yticks = np.arange(0,1.1,0.25)\n",
    "\n",
    "ax1 = fig.add_subplot(411)\n",
    "\n",
    "colors = ['blue', 'Green', 'Coral', 'darkorchid']\n",
    "markers = ['s', 'o', '3', '8']\n",
    "linestyle = [':', '--', '-.', '-']\n",
    "i = 0\n",
    "legends = []\n",
    "for w in set(data['target']):\n",
    "    website_rend = websites[w]['rendering_time_100'].div(1000)\n",
    "    c_web_rend = Cdf.MakeCdfFromList(website_rend)\n",
    "    ax1.plot(c_web_rend.xs, c_web_rend.ps, marker= markers[i], linestyle = linestyle[i],\n",
    "             linewidth=2.0, markersize=0.3, \n",
    "         fillstyle='none', color = colors[i], markevery=151)\n",
    "    i+=1\n",
    "    legends.append(Util.get_base_url(w))\n",
    "ylab = \"CDF\"\n",
    "ax1.grid(False)\n",
    "ax1.set_yticks(yticks)\n",
    "ax1.set_xlim([0,15])\n",
    "ax1.set_ylim([0,1.05])\n",
    "ax1.set_xscale('linear')\n",
    "ax1.set_xlabel('Time (s)', fontsize=12)\n",
    "ax1.set_ylabel(ylab, fontsize=12, )\n",
    "ax1.set_title(\"Rendering Time\", fontsize = 12)\n",
    "#ax1.yaxis.set_label_coords(-0.25, -0.3)\n",
    "    \n",
    "ax1.spines['right'].set_color('none')\n",
    "ax1.spines['top'].set_color('none')\n",
    "ax1.yaxis.set_ticks_position('left')\n",
    "ax1.xaxis.set_ticks_position('bottom')\n",
    "ax1.spines['bottom'].set_position(('axes', -0.05))\n",
    "ax1.spines['left'].set_position(('axes', -0.05))\n",
    "\n",
    "leg = ax1.legend(legends, \n",
    "           fontsize=12, markerscale=1., loc='best', bbox_to_anchor=(0.45, 0.85), frameon=False)\n",
    "for legobj in leg.legendHandles:\n",
    "    legobj.set_linewidth(1.5)\n",
    "\n",
    "fig.subplots_adjust(hspace = 0.6)\n",
    "plt.savefig('../gfx/wepr_website_rend_cdf.pdf', format='pdf', bbox_inches='tight')"
   ]
  },
  {
   "cell_type": "code",
   "execution_count": 17,
   "metadata": {},
   "outputs": [
    {
     "data": {
      "image/png": "[encoded data removed]",
      "text/plain": [
       "<Figure size 360x720 with 1 Axes>"
      ]
     },
     "metadata": {
      "needs_background": "light"
     },
     "output_type": "display_data"
    }
   ],
   "source": [
    "fig = plt.figure(figsize=(5, 10))\n",
    "plt.rcParams['font.size'] = 12\n",
    "\n",
    "yticks = np.arange(0,1.1,0.25)\n",
    "\n",
    "ax1 = fig.add_subplot(411)\n",
    "\n",
    "colors = ['blue', 'Green', 'Coral', 'darkorchid']\n",
    "markers = ['s', 'o', '3', '8']\n",
    "linestyle = [':', '--', '-.', '-']\n",
    "i = 0\n",
    "legends = []\n",
    "for w in set(data['target']):\n",
    "    website_rend = websites[w]['med_body_latency']\n",
    "    c_web_rend = Cdf.MakeCdfFromList(website_rend)\n",
    "    ax1.plot(c_web_rend.xs, c_web_rend.ps, marker= markers[i], linestyle = linestyle[i],\n",
    "             linewidth=2.0, markersize=0.3, \n",
    "         fillstyle='none', color = colors[i], markevery=151)\n",
    "    i+=1\n",
    "    legends.append(Util.get_base_url(w))\n",
    "ylab = \"CDF\"\n",
    "ax1.grid(False)\n",
    "ax1.set_yticks(yticks)\n",
    "ax1.set_xlim([0,800])\n",
    "ax1.set_ylim([0,1.05])\n",
    "ax1.set_xscale('linear')\n",
    "ax1.set_xlabel('Time (ms)', fontsize=12)\n",
    "ax1.set_ylabel(ylab, fontsize=12, )\n",
    "ax1.set_title(\"Median TTFB\", fontsize = 12)\n",
    "#ax1.yaxis.set_label_coords(-0.25, -0.3)\n",
    "    \n",
    "ax1.spines['right'].set_color('none')\n",
    "ax1.spines['top'].set_color('none')\n",
    "ax1.yaxis.set_ticks_position('left')\n",
    "ax1.xaxis.set_ticks_position('bottom')\n",
    "ax1.spines['bottom'].set_position(('axes', -0.05))\n",
    "ax1.spines['left'].set_position(('axes', -0.05))\n",
    "\n",
    "leg = ax1.legend(legends, \n",
    "           fontsize=12, markerscale=1., loc='best', bbox_to_anchor=(0.4, 0.85), frameon=False)\n",
    "for legobj in leg.legendHandles:\n",
    "    legobj.set_linewidth(1.5)\n",
    "\n",
    "fig.subplots_adjust(hspace = 0.6)\n",
    "plt.savefig('../gfx/wepr_website_ttfb_cdf.pdf', format='pdf', bbox_inches='tight')"
   ]
  },
  {
   "cell_type": "code",
   "execution_count": 18,
   "metadata": {},
   "outputs": [
    {
     "data": {
      "text/html": [
       "<div>\n",
       "<style scoped>\n",
       "    .dataframe tbody tr th:only-of-type {\n",
       "        vertical-align: middle;\n",
       "    }\n",
       "\n",
       "    .dataframe tbody tr th {\n",
       "        vertical-align: top;\n",
       "    }\n",
       "\n",
       "    .dataframe thead th {\n",
       "        text-align: right;\n",
       "    }\n",
       "</style>\n",
       "<table border=\"1\" class=\"dataframe\">\n",
       "  <thead>\n",
       "    <tr style=\"text-align: right;\">\n",
       "      <th></th>\n",
       "      <th>url</th>\n",
       "      <th>webperf</th>\n",
       "      <th>firefox</th>\n",
       "      <th>delta</th>\n",
       "    </tr>\n",
       "  </thead>\n",
       "  <tbody>\n",
       "    <tr>\n",
       "      <th>1652</th>\n",
       "      <td>http://tube251.com</td>\n",
       "      <td>3.2</td>\n",
       "      <td>2.9</td>\n",
       "      <td>0.3</td>\n",
       "    </tr>\n",
       "    <tr>\n",
       "      <th>1653</th>\n",
       "      <td>http://www.cm.in.tum.de/en/home/</td>\n",
       "      <td>1.1</td>\n",
       "      <td>1.5</td>\n",
       "      <td>-0.4</td>\n",
       "    </tr>\n",
       "    <tr>\n",
       "      <th>1654</th>\n",
       "      <td>http://www.speedchecker.xyz/</td>\n",
       "      <td>0.8</td>\n",
       "      <td>0.6</td>\n",
       "      <td>0.2</td>\n",
       "    </tr>\n",
       "    <tr>\n",
       "      <th>1655</th>\n",
       "      <td>http://www.helmet.fi/en-US</td>\n",
       "      <td>2.4</td>\n",
       "      <td>1.3</td>\n",
       "      <td>1.1</td>\n",
       "    </tr>\n",
       "    <tr>\n",
       "      <th>1656</th>\n",
       "      <td>http://www.ts.fi</td>\n",
       "      <td>1.6</td>\n",
       "      <td>1.2</td>\n",
       "      <td>0.4</td>\n",
       "    </tr>\n",
       "  </tbody>\n",
       "</table>\n",
       "</div>"
      ],
      "text/plain": [
       "                                   url  webperf  firefox  delta\n",
       "1652                http://tube251.com      3.2      2.9    0.3\n",
       "1653  http://www.cm.in.tum.de/en/home/      1.1      1.5   -0.4\n",
       "1654      http://www.speedchecker.xyz/      0.8      0.6    0.2\n",
       "1655        http://www.helmet.fi/en-US      2.4      1.3    1.1\n",
       "1656                  http://www.ts.fi      1.6      1.2    0.4"
      ]
     },
     "execution_count": 18,
     "metadata": {},
     "output_type": "execute_result"
    }
   ],
   "source": [
    "df_validation_new = pd.read_csv('../dataset/wepr_validation_result_18.csv', sep = ',', encoding = \"ISO-8859-1\")\n",
    "df_validation_new = df_validation_new[df_validation_new['url'] != 'http://comnet.aalto.fi/en/']\n",
    "df_validation_new = df_validation_new[df_validation_new['url'] != 'http://www.httpvshttps.com']\n",
    "df_validation_new = df_validation_new[df_validation_new['url'] != 'http://www.speedcheker.xyz/']\n",
    "df_validation_new = df_validation_new[df_validation_new['url'] != 'http://www.challengeturku.com']\n",
    "df_validation_new.drop(df_validation_new.columns[[-1,]], axis=1, inplace=True)\n",
    "df_validation_new = df_validation_new[df_validation_new['webperf'] > 100]\n",
    "df_validation_new = df_validation_new[df_validation_new['firefox'] > 100]\n",
    "# df_validation_new = df_validation_new[df_validation_new['chrome'] > 100]\n",
    "\n",
    "df_validation_new['webperf'] = df_validation_new['webperf'].div(1000)\n",
    "df_validation_new['firefox'] = df_validation_new['firefox'].div(1000)\n",
    "# df_validation_new['chrome'] = df_validation_new['chrome'].div(1000)\n",
    "df_validation_new['delta'] = df_validation_new['webperf'] - df_validation_new['firefox']\n",
    "df_validation_new.tail()"
   ]
  },
  {
   "cell_type": "code",
   "execution_count": 19,
   "metadata": {},
   "outputs": [
    {
     "data": {
      "text/plain": [
       "{'http://seppo.io/en/',\n",
       " 'http://tube251.com',\n",
       " 'http://www.cm.in.tum.de/en/home/',\n",
       " 'http://www.helmet.fi/en-US',\n",
       " 'http://www.jyvaskyla.fi/international/',\n",
       " 'http://www.maistraatti.fi/en/',\n",
       " 'http://www.speedchecker.xyz/',\n",
       " 'http://www.studyinfinland.fi',\n",
       " 'http://www.ts.fi',\n",
       " 'http://www.ymparisto.fi/en-US/'}"
      ]
     },
     "execution_count": 19,
     "metadata": {},
     "output_type": "execute_result"
    }
   ],
   "source": [
    "(set(df_validation_new['url']))"
   ]
  },
  {
   "cell_type": "code",
   "execution_count": 20,
   "metadata": {},
   "outputs": [
    {
     "data": {
      "text/html": [
       "<div>\n",
       "<style scoped>\n",
       "    .dataframe tbody tr th:only-of-type {\n",
       "        vertical-align: middle;\n",
       "    }\n",
       "\n",
       "    .dataframe tbody tr th {\n",
       "        vertical-align: top;\n",
       "    }\n",
       "\n",
       "    .dataframe thead th {\n",
       "        text-align: right;\n",
       "    }\n",
       "</style>\n",
       "<table border=\"1\" class=\"dataframe\">\n",
       "  <thead>\n",
       "    <tr style=\"text-align: right;\">\n",
       "      <th></th>\n",
       "      <th>webperf</th>\n",
       "      <th>firefox</th>\n",
       "      <th>delta</th>\n",
       "    </tr>\n",
       "  </thead>\n",
       "  <tbody>\n",
       "    <tr>\n",
       "      <th>count</th>\n",
       "      <td>1539.000000</td>\n",
       "      <td>1539.000000</td>\n",
       "      <td>1539.000000</td>\n",
       "    </tr>\n",
       "    <tr>\n",
       "      <th>mean</th>\n",
       "      <td>1.988694</td>\n",
       "      <td>1.866017</td>\n",
       "      <td>0.122677</td>\n",
       "    </tr>\n",
       "    <tr>\n",
       "      <th>std</th>\n",
       "      <td>1.730523</td>\n",
       "      <td>1.303574</td>\n",
       "      <td>1.702656</td>\n",
       "    </tr>\n",
       "    <tr>\n",
       "      <th>min</th>\n",
       "      <td>0.300000</td>\n",
       "      <td>0.200000</td>\n",
       "      <td>-9.400000</td>\n",
       "    </tr>\n",
       "    <tr>\n",
       "      <th>25%</th>\n",
       "      <td>1.000000</td>\n",
       "      <td>1.000000</td>\n",
       "      <td>-0.500000</td>\n",
       "    </tr>\n",
       "    <tr>\n",
       "      <th>50%</th>\n",
       "      <td>1.400000</td>\n",
       "      <td>1.400000</td>\n",
       "      <td>0.000000</td>\n",
       "    </tr>\n",
       "    <tr>\n",
       "      <th>75%</th>\n",
       "      <td>2.300000</td>\n",
       "      <td>2.700000</td>\n",
       "      <td>0.400000</td>\n",
       "    </tr>\n",
       "    <tr>\n",
       "      <th>max</th>\n",
       "      <td>13.100000</td>\n",
       "      <td>12.900000</td>\n",
       "      <td>12.100000</td>\n",
       "    </tr>\n",
       "  </tbody>\n",
       "</table>\n",
       "</div>"
      ],
      "text/plain": [
       "           webperf      firefox        delta\n",
       "count  1539.000000  1539.000000  1539.000000\n",
       "mean      1.988694     1.866017     0.122677\n",
       "std       1.730523     1.303574     1.702656\n",
       "min       0.300000     0.200000    -9.400000\n",
       "25%       1.000000     1.000000    -0.500000\n",
       "50%       1.400000     1.400000     0.000000\n",
       "75%       2.300000     2.700000     0.400000\n",
       "max      13.100000    12.900000    12.100000"
      ]
     },
     "execution_count": 20,
     "metadata": {},
     "output_type": "execute_result"
    }
   ],
   "source": [
    "df_validation_new.describe()"
   ]
  },
  {
   "cell_type": "code",
   "execution_count": 21,
   "metadata": {},
   "outputs": [
    {
     "data": {
      "text/html": [
       "<div>\n",
       "<style scoped>\n",
       "    .dataframe tbody tr th:only-of-type {\n",
       "        vertical-align: middle;\n",
       "    }\n",
       "\n",
       "    .dataframe tbody tr th {\n",
       "        vertical-align: top;\n",
       "    }\n",
       "\n",
       "    .dataframe thead th {\n",
       "        text-align: right;\n",
       "    }\n",
       "</style>\n",
       "<table border=\"1\" class=\"dataframe\">\n",
       "  <thead>\n",
       "    <tr style=\"text-align: right;\">\n",
       "      <th></th>\n",
       "      <th>webperf</th>\n",
       "      <th>firefox</th>\n",
       "      <th>delta</th>\n",
       "    </tr>\n",
       "  </thead>\n",
       "  <tbody>\n",
       "    <tr>\n",
       "      <th>0.10</th>\n",
       "      <td>0.8</td>\n",
       "      <td>0.7</td>\n",
       "      <td>-1.30</td>\n",
       "    </tr>\n",
       "    <tr>\n",
       "      <th>0.25</th>\n",
       "      <td>1.0</td>\n",
       "      <td>1.0</td>\n",
       "      <td>-0.50</td>\n",
       "    </tr>\n",
       "    <tr>\n",
       "      <th>0.50</th>\n",
       "      <td>1.4</td>\n",
       "      <td>1.4</td>\n",
       "      <td>0.00</td>\n",
       "    </tr>\n",
       "    <tr>\n",
       "      <th>0.60</th>\n",
       "      <td>1.6</td>\n",
       "      <td>1.8</td>\n",
       "      <td>0.20</td>\n",
       "    </tr>\n",
       "    <tr>\n",
       "      <th>0.75</th>\n",
       "      <td>2.3</td>\n",
       "      <td>2.7</td>\n",
       "      <td>0.40</td>\n",
       "    </tr>\n",
       "    <tr>\n",
       "      <th>0.95</th>\n",
       "      <td>5.4</td>\n",
       "      <td>3.8</td>\n",
       "      <td>2.71</td>\n",
       "    </tr>\n",
       "  </tbody>\n",
       "</table>\n",
       "</div>"
      ],
      "text/plain": [
       "      webperf  firefox  delta\n",
       "0.10      0.8      0.7  -1.30\n",
       "0.25      1.0      1.0  -0.50\n",
       "0.50      1.4      1.4   0.00\n",
       "0.60      1.6      1.8   0.20\n",
       "0.75      2.3      2.7   0.40\n",
       "0.95      5.4      3.8   2.71"
      ]
     },
     "execution_count": 21,
     "metadata": {},
     "output_type": "execute_result"
    }
   ],
   "source": [
    "df_validation_new.quantile([.1, .25, .5, .6, .75, .95])"
   ]
  },
  {
   "cell_type": "code",
   "execution_count": 22,
   "metadata": {},
   "outputs": [
    {
     "name": "stdout",
     "output_type": "stream",
     "text": [
      "10.0 & 0.8 & 0.7\n",
      "25.0 & 1.0 & 1.0\n",
      "50.0 & 1.4 & 1.4\n",
      "75.0 & 2.3 & 2.7\n",
      "85.0 & 3.1 & 3.0\n"
     ]
    }
   ],
   "source": [
    "for q in [.1, .25, .5, .75, .85]:\n",
    "    print(\"{} & {} & {}\".format(q*100, list(df_validation_new.quantile([q])['webperf'])[0], \\\n",
    "                               list(df_validation_new.quantile([q])['firefox'])[0]))"
   ]
  },
  {
   "cell_type": "code",
   "execution_count": null,
   "metadata": {},
   "outputs": [],
   "source": []
  },
  {
   "cell_type": "code",
   "execution_count": 23,
   "metadata": {},
   "outputs": [],
   "source": [
    "cwebperf = Cdf.MakeCdfFromList(df_validation_new['webperf'])\n",
    "cfirefox = Cdf.MakeCdfFromList(df_validation_new['firefox'])\n",
    "# cchrome = Cdf.MakeCdfFromList(df_validation_new['chrome'])\n"
   ]
  },
  {
   "cell_type": "code",
   "execution_count": 24,
   "metadata": {},
   "outputs": [
    {
     "data": {
      "image/png": "[encoded data removed]",
      "text/plain": [
       "<Figure size 432x144 with 2 Axes>"
      ]
     },
     "metadata": {
      "needs_background": "light"
     },
     "output_type": "display_data"
    }
   ],
   "source": [
    "fig = plt.figure(figsize=(6, 2))\n",
    "plt.rcParams['font.size'] = 12\n",
    "\n",
    "yticks = np.arange(0,1.1,0.25)\n",
    "\n",
    "plt.plot(cwebperf.xs, cwebperf.ps, marker='o', linestyle = '--', linewidth=2.5, markersize=0.1,\\\n",
    "         fillstyle='none', color = 'blue', rasterized=True, markevery=15)\n",
    "plt.plot(cfirefox.xs, cfirefox.ps, marker='+', linestyle = '-', linewidth=2.5, markersize=0.1,\\\n",
    "         fillstyle='none', color = 'coral', rasterized=True, markevery=15)\n",
    "# plt.plot(cchrome.xs, cchrome.ps, marker='+', linestyle = '-', linewidth=2.5, markersize=0.1,\\\n",
    "#          fillstyle='none', color = 'green', rasterized=True, markevery=15)\n",
    "\n",
    "ylab = \"CDF\"\n",
    "\n",
    "ax = fig.axes[0]\n",
    "# ax.grid(True)\n",
    "ax.set_yticks(yticks)\n",
    "ax.set_xlim([0,10])\n",
    "ax.set_ylim([0,1.05])\n",
    "# ax.set_xscale('symlog', basex =2)\n",
    "ax.set_xlabel('Rendering Time (s)', fontsize=12)\n",
    "ax.set_ylabel(ylab, fontsize=12)\n",
    "\n",
    "#['Downloaded by Google Chrome', 'Downloaded by WebPerf']\n",
    "leg = plt.legend(['WebPerf', 'Firefox', 'Google Chrome'],\n",
    "           fontsize=12, markerscale=2., bbox_to_anchor=(0.42, 0.57),frameon=False)\n",
    "for legobj in leg.legendHandles:\n",
    "    legobj.set_linewidth(1.5)\n",
    "leg.get_frame().set_facecolor('none')\n",
    "\n",
    "ax.spines['right'].set_color('none')\n",
    "ax.spines['top'].set_color('none')\n",
    "ax.yaxis.set_ticks_position('left')\n",
    "ax.xaxis.set_ticks_position('bottom')\n",
    "ax.spines['bottom'].set_position(('axes', -0.05))\n",
    "ax.spines['left'].set_position(('axes', -0.05))\n",
    "# formatter = FuncFormatter(lambda y, _: '{:.16g}'.format(y))\n",
    "# ax.xaxis.set_major_formatter(formatter)\n",
    "ax3 = ax.twinx()\n",
    "ax3.spines['right'].set_color('none')\n",
    "ax3.spines['top'].set_color('none')\n",
    "ax3.spines['left'].set_color('none')\n",
    "ax3.spines['bottom'].set_color('none')\n",
    "ax3.yaxis.set_ticks_position('none')\n",
    "plt.setp(ax3.get_yticklabels(), visible=False)\n",
    "\n",
    "#plt.title('Download and Rendering time', fontsize=12, y=1.0)\n",
    "plt.savefig('../gfx/wepr_validation_cdf.pdf', format='pdf', bbox_inches='tight')"
   ]
  },
  {
   "cell_type": "code",
   "execution_count": 25,
   "metadata": {},
   "outputs": [
    {
     "data": {
      "text/plain": [
       "0.4"
      ]
     },
     "execution_count": 25,
     "metadata": {},
     "output_type": "execute_result"
    }
   ],
   "source": [
    "# pearson Correlation \n",
    "chrome_webperf = df_validation_new[['webperf', 'firefox']]\n",
    "pearson_corr = chrome_webperf.corr(method='pearson')\n",
    "# pearson_corr\n",
    "round(pearson_corr['webperf']['firefox'], 2)"
   ]
  },
  {
   "cell_type": "code",
   "execution_count": 26,
   "metadata": {},
   "outputs": [
    {
     "data": {
      "text/plain": [
       "<matplotlib.lines.Line2D at 0x11e2373c8>"
      ]
     },
     "execution_count": 26,
     "metadata": {},
     "output_type": "execute_result"
    },
    {
     "data": {
      "image/png": "[encoded data removed]",
      "text/plain": [
       "<Figure size 360x144 with 2 Axes>"
      ]
     },
     "metadata": {
      "needs_background": "light"
     },
     "output_type": "display_data"
    }
   ],
   "source": [
    "# CDF of the differnnce between download and rendering time\n",
    "cdiff = Cdf.MakeCdfFromList(df_validation_new['delta'])\n",
    "\n",
    "fig = plt.figure(figsize=(5, 2))\n",
    "plt.rcParams['font.size'] = 12\n",
    "\n",
    "yticks = np.arange(0,1.1,0.2)\n",
    "\n",
    "plt.plot(cdiff.xs, cdiff.ps, marker='s', linestyle = '--', linewidth=2.0, markersize=0.3, \n",
    "         fillstyle='none', color = 'black', markevery=1500)\n",
    "ylab = \"CDF [%.2f M]\" %(len(cdiff.xs) / 1000000)\n",
    "\n",
    "ax = fig.axes[0]\n",
    "ax.grid(True)\n",
    "ax.set_yticks(yticks)\n",
    "ax.set_xlim([-2,5])\n",
    "ax.set_ylim([0,1.05])\n",
    "ax.set_xscale('linear')\n",
    "ax.set_xlabel(r'$\\Delta $ Time (s)', fontsize=12)\n",
    "ax.set_ylabel(ylab, fontsize=12)\n",
    "\n",
    "# leg = plt.legend([\"Difference\"],\n",
    "#            fontsize=12, markerscale=2., loc='best', frameon=False)\n",
    "for legobj in leg.legendHandles:\n",
    "    legobj.set_linewidth(1.5)\n",
    "    legobj.set_markersize(0.5)\n",
    "leg.get_frame().set_facecolor('none')\n",
    "\n",
    "ax.spines['right'].set_color('none')\n",
    "ax.spines['top'].set_color('none')\n",
    "ax.yaxis.set_ticks_position('left')\n",
    "ax.xaxis.set_ticks_position('bottom')\n",
    "ax.spines['bottom'].set_position(('axes', -0.05))\n",
    "ax.spines['left'].set_position(('axes', -0.05))\n",
    "\n",
    "ax3 = ax.twinx()\n",
    "ax3.spines['right'].set_color('none')\n",
    "ax3.spines['top'].set_color('none')\n",
    "ax3.spines['left'].set_color('none')\n",
    "ax3.spines['bottom'].set_color('none')\n",
    "ax3.yaxis.set_ticks_position('none')\n",
    "ax3.set_ylabel('[Mar \\'15 - Dec \\'15]')\n",
    "plt.setp(ax3.get_yticklabels(), visible=False)\n",
    "ax.axvline(0, color='k', linestyle='dashed', linewidth=0.5)\n",
    "\n",
    "#plt.title('Difference Download and Rendering time', fontsize=12, y=1.0)\n",
    "# plt.savefig('../gfx/wepr_download_rendering_diff_cdf.pdf', format='pdf', bbox_inches='tight')"
   ]
  },
  {
   "cell_type": "markdown",
   "metadata": {},
   "source": [
    "## WePR benchmarking "
   ]
  },
  {
   "cell_type": "code",
   "execution_count": 27,
   "metadata": {},
   "outputs": [],
   "source": [
    "df_bench =  pd.read_csv('../dataset/wepr_bench.csv', sep = ',', encoding = \"ISO-8859-1\")\n",
    "df_bench = df_bench[df_bench['cpu'] > 10]"
   ]
  },
  {
   "cell_type": "code",
   "execution_count": 28,
   "metadata": {},
   "outputs": [],
   "source": [
    "cpu_time = df_bench['cpu']\n",
    "memory =  df_bench['memory'].div(1000)"
   ]
  },
  {
   "cell_type": "code",
   "execution_count": 29,
   "metadata": {},
   "outputs": [
    {
     "data": {
      "image/png": "[encoded data removed]",
      "text/plain": [
       "<Figure size 432x288 with 4 Axes>"
      ]
     },
     "metadata": {
      "needs_background": "light"
     },
     "output_type": "display_data"
    }
   ],
   "source": [
    "cCpu = Cdf.MakeCdfFromList(cpu_time)\n",
    "cMemory = Cdf.MakeCdfFromList(memory)\n",
    "fig = plt.figure(figsize=(6, 4))\n",
    "plt.rcParams['font.size'] = 12\n",
    "\n",
    "yticks = np.arange(0,1.1,0.2)\n",
    "\n",
    "ax1 = fig.add_subplot(221)\n",
    "ax2 = fig.add_subplot(222)\n",
    "\n",
    "ax1.plot(cCpu.xs, cCpu.ps, marker='s', linestyle = '--',\n",
    "             linewidth=2.0, markersize=0.3, \n",
    "         fillstyle='none', color = 'magenta', markevery=151)\n",
    "ax2.plot(cMemory.xs, cMemory.ps, marker='o', linestyle = '-',\n",
    "             linewidth=2.0, markersize=0.3, \n",
    "         fillstyle='none', color = 'blue', markevery=151)\n",
    "\n",
    "ylab = \"CDF [2500]\"\n",
    "ax1.grid(False)\n",
    "ax1.set_yticks(yticks)\n",
    "ax1.set_xlim([5,55])\n",
    "ax1.set_ylim([0,1.05])\n",
    "ax1.set_xscale('linear')\n",
    "ax1.set_xlabel('Time (Sec)', fontsize=12)\n",
    "ax1.set_ylabel(ylab, fontsize=12, )\n",
    "    \n",
    "ax1.spines['right'].set_color('none')\n",
    "ax1.spines['top'].set_color('none')\n",
    "ax1.yaxis.set_ticks_position('left')\n",
    "ax1.xaxis.set_ticks_position('bottom')\n",
    "ax1.spines['bottom'].set_position(('axes', -0.05))\n",
    "ax1.spines['left'].set_position(('axes', -0.05))\n",
    "\n",
    "ax1_3 = ax1.twinx()\n",
    "ax1_3.spines['right'].set_color('none')\n",
    "ax1_3.spines['top'].set_color('none')\n",
    "ax1_3.spines['left'].set_color('none')\n",
    "ax1_3.spines['bottom'].set_color('none')\n",
    "ax1_3.yaxis.set_ticks_position('none')\n",
    "# ax1_3.set_ylabel('[ 2500 ]')\n",
    "plt.setp(ax1_3.get_yticklabels(), visible=False)\n",
    "\n",
    "ax2.grid(False)\n",
    "ax2.set_yticks(yticks)\n",
    "ax2.set_xlim([100,350])\n",
    "ax2.set_ylim([0,1.05])\n",
    "ax2.set_xscale('linear')\n",
    "ax2.set_xlabel('Memory (MB)', fontsize=12)\n",
    "ax2.axes.yaxis.set_ticklabels([])\n",
    "\n",
    "ax2.spines['right'].set_color('none')\n",
    "ax2.spines['top'].set_color('none')\n",
    "ax2.yaxis.set_ticks_position('left')\n",
    "ax2.xaxis.set_ticks_position('bottom')\n",
    "ax2.spines['bottom'].set_position(('axes', -0.05))\n",
    "ax2.spines['left'].set_position(('axes', -0.05))\n",
    "\n",
    "ax2_3 = ax2.twinx()\n",
    "ax2_3.spines['right'].set_color('none')\n",
    "ax2_3.spines['top'].set_color('none')\n",
    "ax2_3.spines['left'].set_color('none')\n",
    "ax2_3.spines['bottom'].set_color('none')\n",
    "ax2_3.yaxis.set_ticks_position('none')\n",
    "# ax2_3.set_ylabel('[ 2500 ]')\n",
    "plt.setp(ax2_3.get_yticklabels(), visible=False)\n",
    "\n",
    "leg = ax1.legend(['CPU Utilization'],\n",
    "           fontsize=12, markerscale=2., bbox_to_anchor=(0.83, 1.25),frameon=False)\n",
    "for legobj in leg.legendHandles:\n",
    "    legobj.set_linewidth(1.5)\n",
    "leg.get_frame().set_facecolor('none')\n",
    "\n",
    "leg = ax2.legend(['Memory Utilization'],\n",
    "           fontsize=12, markerscale=2., bbox_to_anchor=(1.02, 1.25),frameon=False)\n",
    "for legobj in leg.legendHandles:\n",
    "    legobj.set_linewidth(1.5)\n",
    "leg.get_frame().set_facecolor('none')\n",
    "\n",
    "fig.subplots_adjust(hspace = 0.2)\n",
    "plt.savefig('../gfx/wepr_bench_cdf.pdf', format='pdf', bbox_inches='tight')"
   ]
  }
 ],
 "metadata": {
  "kernelspec": {
   "display_name": "Python 3",
   "language": "python",
   "name": "python3"
  },
  "language_info": {
   "codemirror_mode": {
    "name": "ipython",
    "version": 3
   },
   "file_extension": ".py",
   "mimetype": "text/x-python",
   "name": "python",
   "nbconvert_exporter": "python",
   "pygments_lexer": "ipython3",
   "version": "3.7.1"
  }
 },
 "nbformat": 4,
 "nbformat_minor": 2
}

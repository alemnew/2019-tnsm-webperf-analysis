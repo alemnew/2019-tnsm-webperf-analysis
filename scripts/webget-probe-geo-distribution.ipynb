{
 "cells": [
  {
   "cell_type": "code",
   "execution_count": 8,
   "metadata": {},
   "outputs": [],
   "source": [
    "# imports and env't config \n",
    "import numpy as np\n",
    "import pandas as pd\n",
    "import matplotlib.pyplot as plt\n",
    "import matplotlib.gridspec as gridspec\n",
    "from mpl_toolkits.basemap import Basemap\n",
    "import json\n",
    "import requests \n",
    "from imp import reload \n",
    "import Util; reload(Util)\n",
    "from pygeocoder import Geocoder as gc\n",
    "import warnings\n",
    "from pygeolib import GeocoderError\n",
    "import time \n",
    "warnings.filterwarnings('ignore')\n",
    "%matplotlib inline"
   ]
  },
  {
   "cell_type": "code",
   "execution_count": 9,
   "metadata": {},
   "outputs": [],
   "source": [
    "# read probes metadata \n",
    "probe_data = pd.read_csv(\"../../dataset/2017-tnsm/probes_metadata.csv\", sep = ',', encoding = \"ISO-8859-1\")"
   ]
  },
  {
   "cell_type": "code",
   "execution_count": 10,
   "metadata": {},
   "outputs": [],
   "source": [
    "probes_group_by_loc = probe_data.groupby(['unit_id', 'long', 'lat']).size().reset_index()"
   ]
  },
  {
   "cell_type": "code",
   "execution_count": 11,
   "metadata": {},
   "outputs": [
    {
     "data": {
      "text/html": [
       "<div>\n",
       "<style scoped>\n",
       "    .dataframe tbody tr th:only-of-type {\n",
       "        vertical-align: middle;\n",
       "    }\n",
       "\n",
       "    .dataframe tbody tr th {\n",
       "        vertical-align: top;\n",
       "    }\n",
       "\n",
       "    .dataframe thead th {\n",
       "        text-align: right;\n",
       "    }\n",
       "</style>\n",
       "<table border=\"1\" class=\"dataframe\">\n",
       "  <thead>\n",
       "    <tr style=\"text-align: right;\">\n",
       "      <th></th>\n",
       "      <th>unit_id</th>\n",
       "      <th>long</th>\n",
       "      <th>lat</th>\n",
       "      <th>0</th>\n",
       "    </tr>\n",
       "  </thead>\n",
       "  <tbody>\n",
       "    <tr>\n",
       "      <th>0</th>\n",
       "      <td>19602</td>\n",
       "      <td>-3.6740</td>\n",
       "      <td>40.4069</td>\n",
       "      <td>231</td>\n",
       "    </tr>\n",
       "    <tr>\n",
       "      <th>1</th>\n",
       "      <td>62712</td>\n",
       "      <td>8.8000</td>\n",
       "      <td>53.0833</td>\n",
       "      <td>145</td>\n",
       "    </tr>\n",
       "    <tr>\n",
       "      <th>2</th>\n",
       "      <td>62712</td>\n",
       "      <td>10.7389</td>\n",
       "      <td>59.9132</td>\n",
       "      <td>181</td>\n",
       "    </tr>\n",
       "    <tr>\n",
       "      <th>3</th>\n",
       "      <td>123256</td>\n",
       "      <td>10.7028</td>\n",
       "      <td>53.8511</td>\n",
       "      <td>150</td>\n",
       "    </tr>\n",
       "    <tr>\n",
       "      <th>4</th>\n",
       "      <td>123256</td>\n",
       "      <td>11.5732</td>\n",
       "      <td>48.1299</td>\n",
       "      <td>107</td>\n",
       "    </tr>\n",
       "  </tbody>\n",
       "</table>\n",
       "</div>"
      ],
      "text/plain": [
       "   unit_id     long      lat    0\n",
       "0    19602  -3.6740  40.4069  231\n",
       "1    62712   8.8000  53.0833  145\n",
       "2    62712  10.7389  59.9132  181\n",
       "3   123256  10.7028  53.8511  150\n",
       "4   123256  11.5732  48.1299  107"
      ]
     },
     "execution_count": 11,
     "metadata": {},
     "output_type": "execute_result"
    }
   ],
   "source": [
    "probes_group_by_loc.head()"
   ]
  },
  {
   "cell_type": "code",
   "execution_count": 12,
   "metadata": {},
   "outputs": [
    {
     "data": {
      "text/plain": [
       "{18.4232, 26.1662, 28.0498, 28.0833, 28.3113}"
      ]
     },
     "execution_count": 12,
     "metadata": {},
     "output_type": "execute_result"
    }
   ],
   "source": [
    "za_probes = probe_data[probe_data['unit_id'] == 635774]\n",
    "set(za_probes['long'])"
   ]
  },
  {
   "cell_type": "code",
   "execution_count": 13,
   "metadata": {},
   "outputs": [
    {
     "data": {
      "text/plain": [
       "{-33.9258, -29.123, -26.2052, -26.2, -26.1909}"
      ]
     },
     "execution_count": 13,
     "metadata": {},
     "output_type": "execute_result"
    }
   ],
   "source": [
    "set(za_probes['lat'])"
   ]
  },
  {
   "cell_type": "code",
   "execution_count": 20,
   "metadata": {},
   "outputs": [
    {
     "data": {
      "image/png": "[encoded data removed]",
      "text/plain": [
       "<Figure size 576x576 with 1 Axes>"
      ]
     },
     "metadata": {},
     "output_type": "display_data"
    }
   ],
   "source": [
    "fig = plt.figure(figsize=(8,8))\n",
    "plt.rcParams['font.size'] = 22\n",
    "\n",
    "llcrnrlat     =    -59.00015  \n",
    "llcrnrlon     =    -168.04945\n",
    "urcrnrlat     =    +65.11639              \n",
    "urcrnrlon     =    +178.67711\n",
    "\n",
    "m = Basemap (  projection    =    'merc'\n",
    "             \n",
    "             , llcrnrlat     =    llcrnrlat\n",
    "             , llcrnrlon     =    llcrnrlon\n",
    "             \n",
    "             , urcrnrlat     =    urcrnrlat         \n",
    "             , urcrnrlon     =    urcrnrlon\n",
    "             \n",
    "             , lat_ts        =    20\n",
    "             , resolution    =    'c'\n",
    "            )\n",
    "#m.drawcoastlines()\n",
    "m.fillcontinents(color='white',lake_color='lightcyan')\n",
    "\n",
    "m.drawmapboundary(fill_color='lightgray')\n",
    "# m.drawcountries()\n",
    "\n",
    "x,y = m(probes_group_by_loc['long'].values, probes_group_by_loc['lat'].values)\n",
    "m.plot(x, y, 'b', linestyle = 'none',  marker = '.', markersize=10, fillstyle='none')\n",
    "\n",
    "plt.savefig('../gfx/probes_geo_distribution.pdf', format='pdf', bbox_inches='tight')"
   ]
  },
  {
   "cell_type": "code",
   "execution_count": 15,
   "metadata": {},
   "outputs": [
    {
     "data": {
      "text/plain": [
       "(84, 29, 11)"
      ]
     },
     "execution_count": 15,
     "metadata": {},
     "output_type": "execute_result"
    }
   ],
   "source": [
    "RIPE = ['Belgium', 'France', 'Italy', 'Spain', 'Germany', 'Romania', 'Latvia', \\\n",
    "        'Netherlands' , 'Switzerland', 'Czechia', 'Finland', 'Norway', 'Sweden', \\\n",
    "        'United Kingdom', 'Ireland', 'Slovenia', 'Israel']\n",
    "ARIN = ['United States', 'Canada']\n",
    "OTHERS = ['South Africa', 'Philippines', 'Singapore', 'New Zealand', 'Japan',  \\\n",
    "          'Brazil', 'Bosnia and Herzegovina', 'Australia']\n",
    "\n",
    "ripe = 0\n",
    "arin = 0\n",
    "other = 0\n",
    "\n",
    "for p in set(probe_data['unit_id']):\n",
    "    if probe_data[probe_data.unit_id == p]['country'].values[0] in RIPE:\n",
    "#         print(\"%s found in RIPE\" %p)\n",
    "        ripe +=1\n",
    "    elif probe_data[probe_data.unit_id == p]['country'].values[0] in ARIN:\n",
    "#         print(\"%s found in ARIN\" %p)\n",
    "        arin +=1\n",
    "    elif probe_data[probe_data.unit_id == p]['country'].values[0] in OTHERS:\n",
    "#         print(\"%s found in OTHERS\" %p)\n",
    "        other +=1\n",
    "\n",
    "ripe, arin, other\n"
   ]
  },
  {
   "cell_type": "code",
   "execution_count": 17,
   "metadata": {},
   "outputs": [
    {
     "data": {
      "text/html": [
       "<div>\n",
       "<style scoped>\n",
       "    .dataframe tbody tr th:only-of-type {\n",
       "        vertical-align: middle;\n",
       "    }\n",
       "\n",
       "    .dataframe tbody tr th {\n",
       "        vertical-align: top;\n",
       "    }\n",
       "\n",
       "    .dataframe thead th {\n",
       "        text-align: right;\n",
       "    }\n",
       "</style>\n",
       "<table border=\"1\" class=\"dataframe\">\n",
       "  <thead>\n",
       "    <tr style=\"text-align: right;\">\n",
       "      <th></th>\n",
       "      <th>Unnamed: 0</th>\n",
       "      <th>unit_id</th>\n",
       "      <th>dtime</th>\n",
       "      <th>ip</th>\n",
       "      <th>long</th>\n",
       "      <th>lat</th>\n",
       "      <th>country</th>\n",
       "      <th>asn</th>\n",
       "      <th>asn_holder</th>\n",
       "    </tr>\n",
       "  </thead>\n",
       "  <tbody>\n",
       "    <tr>\n",
       "      <th>0</th>\n",
       "      <td>0</td>\n",
       "      <td>635410</td>\n",
       "      <td>2016-08-01</td>\n",
       "      <td>175.111.102.125</td>\n",
       "      <td>172.579</td>\n",
       "      <td>-43.5884</td>\n",
       "      <td>New Zealand</td>\n",
       "      <td>56304</td>\n",
       "      <td>THETOTALTEAM-AS-AP The Total Team Limited</td>\n",
       "    </tr>\n",
       "    <tr>\n",
       "      <th>1</th>\n",
       "      <td>1</td>\n",
       "      <td>635410</td>\n",
       "      <td>2016-08-02</td>\n",
       "      <td>175.111.102.125</td>\n",
       "      <td>172.579</td>\n",
       "      <td>-43.5884</td>\n",
       "      <td>New Zealand</td>\n",
       "      <td>56304</td>\n",
       "      <td>THETOTALTEAM-AS-AP The Total Team Limited</td>\n",
       "    </tr>\n",
       "    <tr>\n",
       "      <th>2</th>\n",
       "      <td>2</td>\n",
       "      <td>635410</td>\n",
       "      <td>2016-08-03</td>\n",
       "      <td>175.111.102.125</td>\n",
       "      <td>172.579</td>\n",
       "      <td>-43.5884</td>\n",
       "      <td>New Zealand</td>\n",
       "      <td>56304</td>\n",
       "      <td>THETOTALTEAM-AS-AP The Total Team Limited</td>\n",
       "    </tr>\n",
       "    <tr>\n",
       "      <th>3</th>\n",
       "      <td>3</td>\n",
       "      <td>635410</td>\n",
       "      <td>2016-08-04</td>\n",
       "      <td>175.111.102.125</td>\n",
       "      <td>172.579</td>\n",
       "      <td>-43.5884</td>\n",
       "      <td>New Zealand</td>\n",
       "      <td>56304</td>\n",
       "      <td>THETOTALTEAM-AS-AP The Total Team Limited</td>\n",
       "    </tr>\n",
       "    <tr>\n",
       "      <th>4</th>\n",
       "      <td>4</td>\n",
       "      <td>635410</td>\n",
       "      <td>2016-08-05</td>\n",
       "      <td>175.111.102.125</td>\n",
       "      <td>172.579</td>\n",
       "      <td>-43.5884</td>\n",
       "      <td>New Zealand</td>\n",
       "      <td>56304</td>\n",
       "      <td>THETOTALTEAM-AS-AP The Total Team Limited</td>\n",
       "    </tr>\n",
       "  </tbody>\n",
       "</table>\n",
       "</div>"
      ],
      "text/plain": [
       "   Unnamed: 0  unit_id       dtime               ip     long      lat  \\\n",
       "0           0   635410  2016-08-01  175.111.102.125  172.579 -43.5884   \n",
       "1           1   635410  2016-08-02  175.111.102.125  172.579 -43.5884   \n",
       "2           2   635410  2016-08-03  175.111.102.125  172.579 -43.5884   \n",
       "3           3   635410  2016-08-04  175.111.102.125  172.579 -43.5884   \n",
       "4           4   635410  2016-08-05  175.111.102.125  172.579 -43.5884   \n",
       "\n",
       "       country    asn                                 asn_holder  \n",
       "0  New Zealand  56304  THETOTALTEAM-AS-AP The Total Team Limited  \n",
       "1  New Zealand  56304  THETOTALTEAM-AS-AP The Total Team Limited  \n",
       "2  New Zealand  56304  THETOTALTEAM-AS-AP The Total Team Limited  \n",
       "3  New Zealand  56304  THETOTALTEAM-AS-AP The Total Team Limited  \n",
       "4  New Zealand  56304  THETOTALTEAM-AS-AP The Total Team Limited  "
      ]
     },
     "execution_count": 17,
     "metadata": {},
     "output_type": "execute_result"
    }
   ],
   "source": [
    "probe_data.head()"
   ]
  },
  {
   "cell_type": "code",
   "execution_count": 18,
   "metadata": {},
   "outputs": [],
   "source": [
    "sk_nordic = [239416, 525918, 632386, 62712, 632438, 660130, 660162, 660166, 901936, 940010, 950216]"
   ]
  },
  {
   "cell_type": "code",
   "execution_count": 13,
   "metadata": {},
   "outputs": [
    {
     "name": "stdout",
     "output_type": "stream",
     "text": [
      "sk,239416,59.3667,18.0167\n",
      "sk,525918,60.6667,17.1667\n",
      "sk,632386,61.35,16.3667\n",
      "sk,62712,53.0833,8.8\n",
      "sk,632438,59.9167,10.75\n",
      "sk,660130,60.5172,5.2461\n",
      "sk,660162,59.9167,10.75\n",
      "sk,660166,59.1405,9.6561\n",
      "sk,901936,59.95,10.75\n",
      "sk,940010,58.8,9.3833\n",
      "sk,950216,59.95,10.75\n"
     ]
    }
   ],
   "source": [
    "# probes in Nordic \n",
    "for skid in sk_nordic:\n",
    "    skid_df = probes_group_by_loc[probes_group_by_loc['unit_id'] == skid]\n",
    "    long = skid_df['long'].values[0]\n",
    "    lat = skid_df['lat'].values[0]\n",
    "    print(\"{},{},{},{}\".format('sk', skid, lat, long))"
   ]
  },
  {
   "cell_type": "code",
   "execution_count": null,
   "metadata": {},
   "outputs": [],
   "source": []
  }
 ],
 "metadata": {
  "kernelspec": {
   "display_name": "Python 3",
   "language": "python",
   "name": "python3"
  },
  "language_info": {
   "codemirror_mode": {
    "name": "ipython",
    "version": 3
   },
   "file_extension": ".py",
   "mimetype": "text/x-python",
   "name": "python",
   "nbconvert_exporter": "python",
   "pygments_lexer": "ipython3",
   "version": "3.6.5"
  }
 },
 "nbformat": 4,
 "nbformat_minor": 2
}

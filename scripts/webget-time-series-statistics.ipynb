{
 "cells": [
  {
   "cell_type": "code",
   "execution_count": 1,
   "metadata": {},
   "outputs": [],
   "source": [
    "# imports and env't configs\n",
    "import numpy as np\n",
    "import pandas as pd\n",
    "import matplotlib.pyplot as plt\n",
    "import matplotlib.gridspec as gridspec\n",
    "import json\n",
    "import requests \n",
    "from imp import reload \n",
    "import Util; reload(Util)\n",
    "from datetime import datetime as dt\n",
    "import matplotlib.dates as md\n",
    "import warnings\n",
    "import seaborn as sns\n",
    "warnings.filterwarnings('ignore')\n",
    "%matplotlib inline"
   ]
  },
  {
   "cell_type": "code",
   "execution_count": 2,
   "metadata": {},
   "outputs": [],
   "source": [
    "# data reading \n",
    "data = pd.read_csv(Util.dataset, sep = ',', encoding = \"ISO-8859-1\")"
   ]
  },
  {
   "cell_type": "code",
   "execution_count": 3,
   "metadata": {},
   "outputs": [],
   "source": [
    "# data prepareation \n",
    "data['dtime'] = data['dtime'].apply(Util.round_time_to_year)\n",
    "data = data[(data['dtime'] >= '2014') & (data['dtime'] <= '2017')]"
   ]
  },
  {
   "cell_type": "code",
   "execution_count": 4,
   "metadata": {},
   "outputs": [],
   "source": [
    "data['fetch_time'] = data['fetch_time'].div(1000)\n",
    "data['ttfb_avg'] = data['ttfb_avg'].div(1000)\n",
    "data['lookup_avg_time'] = data['lookup_avg_time'].div(1000)"
   ]
  },
  {
   "cell_type": "code",
   "execution_count": 5,
   "metadata": {},
   "outputs": [
    {
     "data": {
      "text/plain": [
       "unit_id               7755073\n",
       "dtime                 7755073\n",
       "target                7755073\n",
       "address               7754603\n",
       "fetch_time            7755073\n",
       "bytes_total           7755073\n",
       "bytes_sec             7755073\n",
       "objects               7755073\n",
       "threads               7755073\n",
       "requests              7755073\n",
       "connections           7755073\n",
       "reused_connections    7755073\n",
       "lookups               7755073\n",
       "request_total_time    7755073\n",
       "request_min_time      7755073\n",
       "request_avg_time      7755073\n",
       "request_max_time      7755073\n",
       "ttfb_total            7755073\n",
       "ttfb_min              7755073\n",
       "ttfb_avg              7755073\n",
       "ttfb_max              7755073\n",
       "lookup_total_time     7755073\n",
       "lookup_min_time       7755073\n",
       "lookup_avg_time       7755073\n",
       "lookup_max_time       7755073\n",
       "successes             7755073\n",
       "failures              7755073\n",
       "location_id           7755073\n",
       "dtype: int64"
      ]
     },
     "execution_count": 5,
     "metadata": {},
     "output_type": "execute_result"
    }
   ],
   "source": [
    "data.count()"
   ]
  },
  {
   "cell_type": "code",
   "execution_count": 6,
   "metadata": {},
   "outputs": [
    {
     "data": {
      "text/html": [
       "<div>\n",
       "<style scoped>\n",
       "    .dataframe tbody tr th:only-of-type {\n",
       "        vertical-align: middle;\n",
       "    }\n",
       "\n",
       "    .dataframe tbody tr th {\n",
       "        vertical-align: top;\n",
       "    }\n",
       "\n",
       "    .dataframe thead th {\n",
       "        text-align: right;\n",
       "    }\n",
       "</style>\n",
       "<table border=\"1\" class=\"dataframe\">\n",
       "  <thead>\n",
       "    <tr style=\"text-align: right;\">\n",
       "      <th></th>\n",
       "      <th>target</th>\n",
       "      <th>lookups</th>\n",
       "      <th>requests</th>\n",
       "    </tr>\n",
       "  </thead>\n",
       "  <tbody>\n",
       "    <tr>\n",
       "      <th>7982153</th>\n",
       "      <td>http://www.live.ca</td>\n",
       "      <td>0</td>\n",
       "      <td>0</td>\n",
       "    </tr>\n",
       "    <tr>\n",
       "      <th>7982154</th>\n",
       "      <td>http://www.cbc.ca</td>\n",
       "      <td>2</td>\n",
       "      <td>8</td>\n",
       "    </tr>\n",
       "    <tr>\n",
       "      <th>7982155</th>\n",
       "      <td>http://www.google.ca</td>\n",
       "      <td>1</td>\n",
       "      <td>4</td>\n",
       "    </tr>\n",
       "    <tr>\n",
       "      <th>7982156</th>\n",
       "      <td>http://www.ebay.com</td>\n",
       "      <td>9</td>\n",
       "      <td>65</td>\n",
       "    </tr>\n",
       "    <tr>\n",
       "      <th>7982157</th>\n",
       "      <td>http://ici.radio-canada.ca</td>\n",
       "      <td>10</td>\n",
       "      <td>81</td>\n",
       "    </tr>\n",
       "  </tbody>\n",
       "</table>\n",
       "</div>"
      ],
      "text/plain": [
       "                             target  lookups  requests\n",
       "7982153          http://www.live.ca        0         0\n",
       "7982154           http://www.cbc.ca        2         8\n",
       "7982155        http://www.google.ca        1         4\n",
       "7982156         http://www.ebay.com        9        65\n",
       "7982157  http://ici.radio-canada.ca       10        81"
      ]
     },
     "execution_count": 6,
     "metadata": {},
     "output_type": "execute_result"
    }
   ],
   "source": [
    "data[['target', 'lookups', 'requests']].tail()"
   ]
  },
  {
   "cell_type": "code",
   "execution_count": 7,
   "metadata": {},
   "outputs": [
    {
     "data": {
      "text/plain": [
       "{'http://ca.yahoo.com',\n",
       " 'http://ici.radio-canada.ca',\n",
       " 'http://www-ofcom.samknows.com/static/mobile-test/',\n",
       " 'http://www.cbc.ca',\n",
       " 'http://www.ebay.com',\n",
       " 'http://www.facebook.com/policies',\n",
       " 'http://www.google.ca',\n",
       " 'http://www.google.com/mobile/',\n",
       " 'http://www.live.ca',\n",
       " 'http://www.youtube.com'}"
      ]
     },
     "execution_count": 7,
     "metadata": {},
     "output_type": "execute_result"
    }
   ],
   "source": [
    "(set(data['target'])) "
   ]
  },
  {
   "cell_type": "code",
   "execution_count": 8,
   "metadata": {},
   "outputs": [],
   "source": [
    "# Filter the dataset for each website ...\n",
    "google = data[data['target'].str.contains(\"google.com\")]\n",
    "facebook = data[data['target'].str.contains(\"facebook.com\")]\n",
    "youtube = data[data['target'].str.contains(\"youtube.com\")]"
   ]
  },
  {
   "cell_type": "code",
   "execution_count": 9,
   "metadata": {},
   "outputs": [],
   "source": [
    "# Group data first by probe ID, then by dtime (time)\n",
    "google_grouped = google.groupby([\"unit_id\", \"dtime\"])\n",
    "facebook_grouped = facebook.groupby([\"unit_id\", \"dtime\"])\n",
    "youtube_grouped = youtube.groupby([\"unit_id\", \"dtime\"])"
   ]
  },
  {
   "cell_type": "code",
   "execution_count": 10,
   "metadata": {},
   "outputs": [],
   "source": [
    "# For each group, calculate the average of only the snow_depth column\n",
    "google_ft_year_median = google_grouped.aggregate({\"fetch_time\":np.median})\n",
    "google_ttfb_year_median = google_grouped.aggregate({\"ttfb_avg\":np.median})\n",
    "google_dnst_year_median = google_grouped.aggregate({\"lookup_avg_time\":np.median})\n",
    "google_objects_year_median = google_grouped.aggregate({\"objects\":np.median})\n",
    "google_bytes_year_median = google_grouped.aggregate({\"bytes_total\":np.median})\n",
    "google_lookups_year_median = google_grouped.aggregate({\"lookups\":np.median})\n",
    "\n",
    "facebook_ft_year_median = facebook_grouped.aggregate({\"fetch_time\":np.median})\n",
    "facebook_ttfb_year_median = facebook_grouped.aggregate({\"ttfb_avg\":np.median})\n",
    "facebook_dnst_year_median = facebook_grouped.aggregate({\"lookup_avg_time\":np.median})\n",
    "facebook_objects_year_median = facebook_grouped.aggregate({\"objects\":np.median})\n",
    "facebook_bytes_year_median = facebook_grouped.aggregate({\"bytes_total\":np.median})\n",
    "facebook_lookups_year_median = facebook_grouped.aggregate({\"lookups\":np.median})\n",
    "\n",
    "youtube_ft_year_median = youtube_grouped.aggregate({\"fetch_time\":np.median})\n",
    "youtube_ttfb_year_median = youtube_grouped.aggregate({\"ttfb_avg\":np.median})\n",
    "youtube_dnst_year_median = youtube_grouped.aggregate({\"lookup_avg_time\":np.median})\n",
    "youtube_objects_year_median = youtube_grouped.aggregate({\"objects\":np.median})\n",
    "youtube_bytes_year_median = youtube_grouped.aggregate({\"bytes_total\":np.median})\n",
    "youtube_lookups_year_median = youtube_grouped.aggregate({\"lookups\":np.median})"
   ]
  },
  {
   "cell_type": "code",
   "execution_count": 11,
   "metadata": {},
   "outputs": [],
   "source": [
    "ggl_df = google_ttfb_year_median.reset_index(level=['unit_id', 'dtime'])\n",
    "ggl_df['fetch_time'] = google_ft_year_median.reset_index(level=['unit_id', 'dtime'])['fetch_time']\n",
    "ggl_df['lookup_avg_time'] = google_dnst_year_median.reset_index(level=['unit_id', 'dtime'])['lookup_avg_time']\n",
    "ggl_df['objects'] = google_objects_year_median.reset_index(level=['unit_id', 'dtime'])['objects']\n",
    "ggl_df['bytes_total'] = google_bytes_year_median.reset_index(level=['unit_id', 'dtime'])['bytes_total']\n",
    "ggl_df['lookups'] = google_lookups_year_median.reset_index(level=['unit_id', 'dtime'])['lookups']\n",
    "\n",
    "fb_df = facebook_ttfb_year_median.reset_index(level=['unit_id', 'dtime'])\n",
    "fb_df['fetch_time'] = facebook_ft_year_median.reset_index(level=['unit_id', 'dtime'])['fetch_time']\n",
    "fb_df['lookup_avg_time'] = facebook_dnst_year_median.reset_index(level=['unit_id', 'dtime'])['lookup_avg_time']\n",
    "fb_df['objects'] = facebook_objects_year_median.reset_index(level=['unit_id', 'dtime'])['objects']\n",
    "fb_df['bytes_total'] = facebook_bytes_year_median.reset_index(level=['unit_id', 'dtime'])['bytes_total']\n",
    "fb_df['lookups'] = facebook_lookups_year_median.reset_index(level=['unit_id', 'dtime'])['lookups']\n",
    "\n",
    "ut_df = youtube_ttfb_year_median.reset_index(level=['unit_id', 'dtime'])\n",
    "ut_df['fetch_time'] = youtube_ft_year_median.reset_index(level=['unit_id', 'dtime'])['fetch_time']\n",
    "ut_df['lookup_avg_time'] = youtube_dnst_year_median.reset_index(level=['unit_id', 'dtime'])['lookup_avg_time']\n",
    "ut_df['objects'] = youtube_objects_year_median.reset_index(level=['unit_id', 'dtime'])['objects']\n",
    "ut_df['bytes_total'] = youtube_bytes_year_median.reset_index(level=['unit_id', 'dtime'])['bytes_total']\n",
    "ut_df['lookups'] = youtube_lookups_year_median.reset_index(level=['unit_id', 'dtime'])['lookups']"
   ]
  },
  {
   "cell_type": "code",
   "execution_count": 12,
   "metadata": {},
   "outputs": [
    {
     "name": "stdout",
     "output_type": "stream",
     "text": [
      "Median DNS Lookup time (MIN | MED | MAX)\n",
      "\tFacebook\n",
      "\t \t 2014  =  1.41 | 42.12 | 209.8\n",
      "\t \t 2015  =  1.26 | 19.7 | 209.41\n",
      "\t \t 2016  =  1.19 | 17.28 | 265.64\n",
      "\t \t 2017  =  1.1 | 15.83 | 99.89\n",
      "\tGoogle\n",
      "\t\t 2014  =  1.61 | 40.56 | 211.38\n",
      "\t\t 2015  =  1.22 | 18.77 | 213.17\n",
      "\t\t 2016  =  1.11 | 17.79 | 334.8\n",
      "\t\t 2017  =  1.0 | 17.8 | 275.78\n",
      "\tYouTube\n",
      "\t\t 2014  =  1.71 | 45.41 | 212.62\n",
      "\t\t 2015  =  1.33 | 22.08 | 215.43\n",
      "\t\t 2016  =  1.2 | 17.66 | 366.82\n",
      "\t\t 2017  =  0.83 | 12.81 | 287.55\n"
     ]
    }
   ],
   "source": [
    "print(\"Median DNS Lookup time (MIN | MED | MAX)\")\n",
    "print(\"\\tFacebook\")\n",
    "for gr, val in fb_df.groupby(['dtime'])['lookup_avg_time']:\n",
    "    print('\\t \\t', gr, ' = ', round(val.min(), 2), '|', round(val.median(), 2) , '|', round(val.max(), 2))\n",
    "    \n",
    "print(\"\\tGoogle\")\n",
    "for gr, val in ggl_df.groupby(['dtime'])['lookup_avg_time']:\n",
    "    print('\\t\\t', gr, ' = ', round(val.min(), 2), '|', round(val.median(), 2) , '|', round(val.max(), 2))\n",
    "    \n",
    "print(\"\\tYouTube\")\n",
    "for gr, val in ut_df.groupby(['dtime'])['lookup_avg_time']:\n",
    "    print('\\t\\t', gr, ' = ', round(val.min(), 2), '|', round(val.median(), 2) , '|', round(val.max(), 2))"
   ]
  },
  {
   "cell_type": "code",
   "execution_count": 13,
   "metadata": {},
   "outputs": [
    {
     "name": "stdout",
     "output_type": "stream",
     "text": [
      "changes from 2014 to 2016\n",
      "Facebook = 59\n",
      "Google = 56\n",
      "YouTube = 61\n",
      "\n",
      "changes from 2015 to 2017\n",
      "Facebook = 20\n",
      "Google = 5\n",
      "YouTube = 42\n"
     ]
    }
   ],
   "source": [
    "print('changes from 2014 to 2016')\n",
    "print(\"Facebook = {}\".format(round( (42.12 - 17.28)*100/ 42.12 ), 2))\n",
    "print(\"Google = {}\".format(round( (40.56 - 17.79)*100/40.56 ), 2))\n",
    "print(\"YouTube = {}\".format(round( (45.41 - 17.66)*100/45.41 ), 2))\n",
    "\n",
    "print('\\nchanges from 2015 to 2017')\n",
    "print(\"Facebook = {}\".format(round((19.7 - 15.83)*100/ 19.7 ), 2))\n",
    "print(\"Google = {}\".format( round((18.77 - 17.8)*100/18.77 ), 2))\n",
    "print(\"YouTube = {}\".format( round((22.08 - 12.81)*100/22.08 ), 2))"
   ]
  },
  {
   "cell_type": "code",
   "execution_count": 14,
   "metadata": {},
   "outputs": [
    {
     "name": "stdout",
     "output_type": "stream",
     "text": [
      "Median Number of servers (MIN | MED | MAX)\n",
      "\tFacebook\n",
      "\t \t 2014  =  1 | 1.0 | 2\n",
      "\t \t 2015  =  1 | 1.0 | 1\n",
      "\t \t 2016  =  1 | 1.0 | 2\n",
      "\t \t 2017  =  1 | 1.0 | 2\n",
      "\tGoogle\n",
      "\t\t 2014  =  2.0 | 2.0 | 2.0\n",
      "\t\t 2015  =  1.0 | 2.0 | 2.0\n",
      "\t\t 2016  =  2.0 | 2.0 | 4.0\n",
      "\t\t 2017  =  3.0 | 4.0 | 4.0\n",
      "\tYouTube\n",
      "\t\t 2014  =  3 | 3.0 | 3\n",
      "\t\t 2015  =  1 | 3.0 | 3\n",
      "\t\t 2016  =  2 | 2.0 | 2\n",
      "\t\t 2017  =  1 | 1.0 | 2\n"
     ]
    }
   ],
   "source": [
    "print(\"Median Number of servers (MIN | MED | MAX)\")\n",
    "print(\"\\tFacebook\")\n",
    "for gr, val in fb_df.groupby(['dtime'])['lookups']:\n",
    "    print('\\t \\t', gr, ' = ', round(val.min(), 2), '|', round(val.median(), 2) , '|', round(val.max(), 2))\n",
    "    \n",
    "print(\"\\tGoogle\")\n",
    "for gr, val in ggl_df.groupby(['dtime'])['lookups']:\n",
    "    print('\\t\\t', gr, ' = ', round(val.min(), 2), '|', round(val.median(), 2) , '|', round(val.max(), 2))\n",
    "    \n",
    "print(\"\\tYouTube\")\n",
    "for gr, val in ut_df.groupby(['dtime'])['lookups']:\n",
    "    print('\\t\\t', gr, ' = ', round(val.min(), 2), '|', round(val.median(), 2) , '|', round(val.max(), 2))"
   ]
  },
  {
   "cell_type": "code",
   "execution_count": 15,
   "metadata": {},
   "outputs": [
    {
     "name": "stdout",
     "output_type": "stream",
     "text": [
      "Median TTFB (MIN | MED | MAX)\n",
      "\tFacebook\n",
      "\t \t 2014  =  84.86 | 170.55 | 503.2\n",
      "\t \t 2015  =  60.59 | 153.08 | 568.04\n",
      "\t \t 2016  =  0.0 | 146.66 | 1361.89\n",
      "\t \t 2017  =  46.18 | 173.05 | 1507.07\n",
      "\tGoogle\n",
      "\t\t 2014  =  32.2 | 114.51 | 825.87\n",
      "\t\t 2015  =  0.0 | 80.15 | 626.05\n",
      "\t\t 2016  =  17.0 | 71.49 | 524.11\n",
      "\t\t 2017  =  15.24 | 57.61 | 1167.53\n",
      "\tYouTube\n",
      "\t\t 2014  =  19.57 | 100.24 | 790.66\n",
      "\t\t 2015  =  0.0 | 128.38 | 505.87\n",
      "\t\t 2016  =  36.86 | 118.84 | 544.5\n",
      "\t\t 2017  =  40.47 | 120.84 | 1447.38\n"
     ]
    }
   ],
   "source": [
    "print(\"Median TTFB (MIN | MED | MAX)\")\n",
    "print(\"\\tFacebook\")\n",
    "for gr, val in fb_df.groupby(['dtime'])['ttfb_avg']:\n",
    "    print('\\t \\t', gr, ' = ',  round(val.min(), 2), '|', round(val.median(), 2) , '|', round(val.max(), 2))\n",
    "    \n",
    "print(\"\\tGoogle\")\n",
    "for gr, val in ggl_df.groupby(['dtime'])['ttfb_avg']:\n",
    "    print('\\t\\t', gr, ' = ',  round(val.min(), 2), '|', round(val.median(), 2) , '|', round(val.max(), 2))\n",
    "    \n",
    "print(\"\\tYouTube\")\n",
    "for gr, val in ut_df.groupby(['dtime'])['ttfb_avg']:\n",
    "    print('\\t\\t', gr, ' = ',  round(val.min(), 2), '|', round(val.median(), 2) , '|', round(val.max(), 2))"
   ]
  },
  {
   "cell_type": "code",
   "execution_count": 16,
   "metadata": {},
   "outputs": [
    {
     "name": "stdout",
     "output_type": "stream",
     "text": [
      "Median PLT\n",
      "\tFacebook\n",
      "\t \t 2014  =  290.87\n",
      "\t \t 2015  =  490.89\n",
      "\t \t 2016  =  520.22\n",
      "\t \t 2017  =  595.37\n",
      "\tGoogle\n",
      "\t\t 2014  =  1428.27\n",
      "\t\t 2015  =  686.98\n",
      "\t\t 2016  =  500.98\n",
      "\t\t 2017  =  408.14\n",
      "\tYouTube\n",
      "\t\t 2014  =  1446.87\n",
      "\t\t 2015  =  1206.72\n",
      "\t\t 2016  =  637.5\n",
      "\t\t 2017  =  641.4\n"
     ]
    }
   ],
   "source": [
    "print(\"Median PLT\")\n",
    "print(\"\\tFacebook\")\n",
    "for gr, val in fb_df.groupby(['dtime'])['fetch_time']:\n",
    "    print('\\t \\t', gr, ' = ', round(val.median(), 2))\n",
    "    \n",
    "print(\"\\tGoogle\")\n",
    "for gr, val in ggl_df.groupby(['dtime'])['fetch_time']:\n",
    "    print('\\t\\t', gr, ' = ', round(val.median(), 2))\n",
    "    \n",
    "print(\"\\tYouTube\")\n",
    "for gr, val in ut_df.groupby(['dtime'])['fetch_time']:\n",
    "    print('\\t\\t', gr, ' = ', round(val.median(), 2))"
   ]
  }
 ],
 "metadata": {
  "kernelspec": {
   "display_name": "Python 3",
   "language": "python",
   "name": "python3"
  },
  "language_info": {
   "codemirror_mode": {
    "name": "ipython",
    "version": 3
   },
   "file_extension": ".py",
   "mimetype": "text/x-python",
   "name": "python",
   "nbconvert_exporter": "python",
   "pygments_lexer": "ipython3",
   "version": "3.7.1"
  }
 },
 "nbformat": 4,
 "nbformat_minor": 2
}

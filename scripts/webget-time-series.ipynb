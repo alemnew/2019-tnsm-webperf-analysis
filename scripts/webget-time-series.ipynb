{
 "cells": [
  {
   "cell_type": "code",
   "execution_count": 1,
   "metadata": {},
   "outputs": [],
   "source": [
    "# imports and env't configs\n",
    "import numpy as np\n",
    "import pandas as pd\n",
    "import matplotlib.pyplot as plt\n",
    "import matplotlib.gridspec as gridspec\n",
    "import json\n",
    "import requests \n",
    "from imp import reload \n",
    "import Util; reload(Util)\n",
    "from datetime import datetime as dt\n",
    "import matplotlib.dates as md\n",
    "import warnings\n",
    "warnings.filterwarnings('ignore')\n",
    "%matplotlib inline"
   ]
  },
  {
   "cell_type": "code",
   "execution_count": 2,
   "metadata": {},
   "outputs": [],
   "source": [
    "# data reading \n",
    "data = pd.read_csv(Util.dataset, sep = ',', encoding = \"ISO-8859-1\")"
   ]
  },
  {
   "cell_type": "code",
   "execution_count": 3,
   "metadata": {},
   "outputs": [],
   "source": [
    "# data prepareation \n",
    "data['dtime'] = data['dtime'].apply(Util.round_time_to_day)\n",
    "data = data[(data['dtime'] >= '2014-01-01') & (data['dtime'] <= '2017-07-01')]"
   ]
  },
  {
   "cell_type": "code",
   "execution_count": 4,
   "metadata": {},
   "outputs": [],
   "source": [
    "data['fetch_time'] = data['fetch_time'].div(1000)\n",
    "data['ttfb_avg'] = data['ttfb_avg'].div(1000)\n",
    "data['lookup_avg_time'] = data['lookup_avg_time'].div(1000)"
   ]
  },
  {
   "cell_type": "code",
   "execution_count": 5,
   "metadata": {},
   "outputs": [
    {
     "data": {
      "text/html": [
       "<div>\n",
       "<style scoped>\n",
       "    .dataframe tbody tr th:only-of-type {\n",
       "        vertical-align: middle;\n",
       "    }\n",
       "\n",
       "    .dataframe tbody tr th {\n",
       "        vertical-align: top;\n",
       "    }\n",
       "\n",
       "    .dataframe thead th {\n",
       "        text-align: right;\n",
       "    }\n",
       "</style>\n",
       "<table border=\"1\" class=\"dataframe\">\n",
       "  <thead>\n",
       "    <tr style=\"text-align: right;\">\n",
       "      <th></th>\n",
       "      <th>unit_id</th>\n",
       "      <th>dtime</th>\n",
       "      <th>target</th>\n",
       "      <th>address</th>\n",
       "      <th>fetch_time</th>\n",
       "      <th>bytes_total</th>\n",
       "      <th>bytes_sec</th>\n",
       "      <th>objects</th>\n",
       "      <th>threads</th>\n",
       "      <th>requests</th>\n",
       "      <th>...</th>\n",
       "      <th>ttfb_min</th>\n",
       "      <th>ttfb_avg</th>\n",
       "      <th>ttfb_max</th>\n",
       "      <th>lookup_total_time</th>\n",
       "      <th>lookup_min_time</th>\n",
       "      <th>lookup_avg_time</th>\n",
       "      <th>lookup_max_time</th>\n",
       "      <th>successes</th>\n",
       "      <th>failures</th>\n",
       "      <th>location_id</th>\n",
       "    </tr>\n",
       "  </thead>\n",
       "  <tbody>\n",
       "    <tr>\n",
       "      <th>7944193</th>\n",
       "      <td>950240</td>\n",
       "      <td>2017-06-29</td>\n",
       "      <td>http://www.youtube.com</td>\n",
       "      <td>216.58.216.142</td>\n",
       "      <td>926.815</td>\n",
       "      <td>898087</td>\n",
       "      <td>969003</td>\n",
       "      <td>11</td>\n",
       "      <td>8</td>\n",
       "      <td>11</td>\n",
       "      <td>...</td>\n",
       "      <td>122851</td>\n",
       "      <td>175.361</td>\n",
       "      <td>234497</td>\n",
       "      <td>165660</td>\n",
       "      <td>49062</td>\n",
       "      <td>82.830</td>\n",
       "      <td>116598</td>\n",
       "      <td>0</td>\n",
       "      <td>1</td>\n",
       "      <td>2541698</td>\n",
       "    </tr>\n",
       "    <tr>\n",
       "      <th>7944194</th>\n",
       "      <td>950240</td>\n",
       "      <td>2017-06-29</td>\n",
       "      <td>http://www.facebook.com/policies</td>\n",
       "      <td>31.13.69.228</td>\n",
       "      <td>2135.791</td>\n",
       "      <td>552312</td>\n",
       "      <td>258598</td>\n",
       "      <td>10</td>\n",
       "      <td>8</td>\n",
       "      <td>10</td>\n",
       "      <td>...</td>\n",
       "      <td>601933</td>\n",
       "      <td>629.396</td>\n",
       "      <td>708741</td>\n",
       "      <td>408397</td>\n",
       "      <td>143310</td>\n",
       "      <td>204.198</td>\n",
       "      <td>265087</td>\n",
       "      <td>1</td>\n",
       "      <td>0</td>\n",
       "      <td>2541698</td>\n",
       "    </tr>\n",
       "    <tr>\n",
       "      <th>7944195</th>\n",
       "      <td>950240</td>\n",
       "      <td>2017-06-29</td>\n",
       "      <td>http://www.google.com/mobile/</td>\n",
       "      <td>216.58.216.132</td>\n",
       "      <td>470.220</td>\n",
       "      <td>322679</td>\n",
       "      <td>686229</td>\n",
       "      <td>13</td>\n",
       "      <td>8</td>\n",
       "      <td>11</td>\n",
       "      <td>...</td>\n",
       "      <td>21700</td>\n",
       "      <td>106.572</td>\n",
       "      <td>145852</td>\n",
       "      <td>237344</td>\n",
       "      <td>9076</td>\n",
       "      <td>59.336</td>\n",
       "      <td>116999</td>\n",
       "      <td>0</td>\n",
       "      <td>1</td>\n",
       "      <td>2541698</td>\n",
       "    </tr>\n",
       "    <tr>\n",
       "      <th>7944196</th>\n",
       "      <td>950240</td>\n",
       "      <td>2017-06-29</td>\n",
       "      <td>http://www.youtube.com</td>\n",
       "      <td>216.58.216.142</td>\n",
       "      <td>941.829</td>\n",
       "      <td>898090</td>\n",
       "      <td>953559</td>\n",
       "      <td>11</td>\n",
       "      <td>8</td>\n",
       "      <td>11</td>\n",
       "      <td>...</td>\n",
       "      <td>133790</td>\n",
       "      <td>192.610</td>\n",
       "      <td>228590</td>\n",
       "      <td>152793</td>\n",
       "      <td>49970</td>\n",
       "      <td>76.396</td>\n",
       "      <td>102823</td>\n",
       "      <td>0</td>\n",
       "      <td>1</td>\n",
       "      <td>2541698</td>\n",
       "    </tr>\n",
       "    <tr>\n",
       "      <th>7944197</th>\n",
       "      <td>950240</td>\n",
       "      <td>2017-06-29</td>\n",
       "      <td>http://www.facebook.com/policies</td>\n",
       "      <td>31.13.69.228</td>\n",
       "      <td>2166.424</td>\n",
       "      <td>552406</td>\n",
       "      <td>254985</td>\n",
       "      <td>10</td>\n",
       "      <td>8</td>\n",
       "      <td>10</td>\n",
       "      <td>...</td>\n",
       "      <td>602465</td>\n",
       "      <td>633.013</td>\n",
       "      <td>728322</td>\n",
       "      <td>401671</td>\n",
       "      <td>138535</td>\n",
       "      <td>200.835</td>\n",
       "      <td>263136</td>\n",
       "      <td>1</td>\n",
       "      <td>0</td>\n",
       "      <td>2541698</td>\n",
       "    </tr>\n",
       "  </tbody>\n",
       "</table>\n",
       "<p>5 rows × 28 columns</p>\n",
       "</div>"
      ],
      "text/plain": [
       "         unit_id       dtime                            target  \\\n",
       "7944193   950240  2017-06-29            http://www.youtube.com   \n",
       "7944194   950240  2017-06-29  http://www.facebook.com/policies   \n",
       "7944195   950240  2017-06-29     http://www.google.com/mobile/   \n",
       "7944196   950240  2017-06-29            http://www.youtube.com   \n",
       "7944197   950240  2017-06-29  http://www.facebook.com/policies   \n",
       "\n",
       "                address  fetch_time  bytes_total  bytes_sec  objects  threads  \\\n",
       "7944193  216.58.216.142     926.815       898087     969003       11        8   \n",
       "7944194    31.13.69.228    2135.791       552312     258598       10        8   \n",
       "7944195  216.58.216.132     470.220       322679     686229       13        8   \n",
       "7944196  216.58.216.142     941.829       898090     953559       11        8   \n",
       "7944197    31.13.69.228    2166.424       552406     254985       10        8   \n",
       "\n",
       "         requests     ...       ttfb_min  ttfb_avg  ttfb_max  \\\n",
       "7944193        11     ...         122851   175.361    234497   \n",
       "7944194        10     ...         601933   629.396    708741   \n",
       "7944195        11     ...          21700   106.572    145852   \n",
       "7944196        11     ...         133790   192.610    228590   \n",
       "7944197        10     ...         602465   633.013    728322   \n",
       "\n",
       "         lookup_total_time  lookup_min_time  lookup_avg_time  lookup_max_time  \\\n",
       "7944193             165660            49062           82.830           116598   \n",
       "7944194             408397           143310          204.198           265087   \n",
       "7944195             237344             9076           59.336           116999   \n",
       "7944196             152793            49970           76.396           102823   \n",
       "7944197             401671           138535          200.835           263136   \n",
       "\n",
       "         successes  failures  location_id  \n",
       "7944193          0         1      2541698  \n",
       "7944194          1         0      2541698  \n",
       "7944195          0         1      2541698  \n",
       "7944196          0         1      2541698  \n",
       "7944197          1         0      2541698  \n",
       "\n",
       "[5 rows x 28 columns]"
      ]
     },
     "execution_count": 5,
     "metadata": {},
     "output_type": "execute_result"
    }
   ],
   "source": [
    "data.tail()"
   ]
  },
  {
   "cell_type": "code",
   "execution_count": 6,
   "metadata": {},
   "outputs": [
    {
     "data": {
      "text/plain": [
       "(183, 253)"
      ]
     },
     "execution_count": 6,
     "metadata": {},
     "output_type": "execute_result"
    }
   ],
   "source": [
    "n_unit_id = len(set(data['unit_id']))\n",
    "n_location_id = len(set(data['location_id']))\n",
    "n_unit_id , n_location_id"
   ]
  },
  {
   "cell_type": "code",
   "execution_count": 30,
   "metadata": {},
   "outputs": [
    {
     "data": {
      "text/plain": [
       "unit_id               7506089\n",
       "dtime                 7506089\n",
       "target                7506089\n",
       "address               7506089\n",
       "fetch_time            7506089\n",
       "bytes_total           7506089\n",
       "bytes_sec             7506089\n",
       "objects               7506089\n",
       "threads               7506089\n",
       "requests              7506089\n",
       "connections           7506089\n",
       "reused_connections    7506089\n",
       "lookups               7506089\n",
       "request_total_time    7506089\n",
       "request_min_time      7506089\n",
       "request_avg_time      7506089\n",
       "request_max_time      7506089\n",
       "ttfb_total            7506089\n",
       "ttfb_min              7506089\n",
       "ttfb_avg              7506089\n",
       "ttfb_max              7506089\n",
       "lookup_total_time     7506089\n",
       "lookup_min_time       7506089\n",
       "lookup_avg_time       7506089\n",
       "lookup_max_time       7506089\n",
       "successes             7506089\n",
       "failures              7506089\n",
       "location_id           7506089\n",
       "dtype: int64"
      ]
     },
     "execution_count": 30,
     "metadata": {},
     "output_type": "execute_result"
    }
   ],
   "source": [
    "data.count()"
   ]
  },
  {
   "cell_type": "code",
   "execution_count": 8,
   "metadata": {},
   "outputs": [],
   "source": [
    "# unit_id = set(data['unit_id'])\n",
    "# thefile = open('unit_id.txt', 'w')\n",
    "# for item in unit_id:\n",
    "#     thefile.write(\"%s\\n\" % item)\n",
    "# thefile.close()"
   ]
  },
  {
   "cell_type": "code",
   "execution_count": 9,
   "metadata": {},
   "outputs": [],
   "source": [
    "# Filter the dataset for each website ...\n",
    "google = data[data['target'].str.contains(\"google.com\")]\n",
    "facebook = data[data['target'].str.contains(\"facebook.com\")]\n",
    "youtube = data[data['target'].str.contains(\"youtube.com\")]\n",
    "# yahoo = data[data['target'].str.contains(\"yahoo.com\")]\n",
    "# cbc_ca = data[data['target'].str.contains(\"cbc.ca\")]\n",
    "# google_ca = data[data['target'].str.contains(\"google.ca\")]\n",
    "# live_ca = data[data['target'].str.contains(\"live.ca\")]\n",
    "# ebay = data[data['target'].str.contains(\"ebay.com\")]\n",
    "# radio_ca = data[data['target'].str.contains(\"radio-canada.ca\")]"
   ]
  },
  {
   "cell_type": "markdown",
   "metadata": {},
   "source": [
    "# correlation "
   ]
  },
  {
   "cell_type": "code",
   "execution_count": 10,
   "metadata": {},
   "outputs": [
    {
     "name": "stdout",
     "output_type": "stream",
     "text": [
      "Facebook: 0.336\n",
      "Google: 0.641\n",
      "YouTube: 0.464\n",
      "All: 0.436\n"
     ]
    }
   ],
   "source": [
    "# pearson Correlation \n",
    "facebook_corr = facebook[['fetch_time', 'ttfb_avg']]\n",
    "fb_pearson_corr = facebook_corr.corr(method='pearson')\n",
    "print(\"Facebook: %.3f\" %fb_pearson_corr['fetch_time']['ttfb_avg'])\n",
    "\n",
    "# pearson Correlation \n",
    "google_corr = google[['fetch_time', 'ttfb_avg']]\n",
    "ggl_pearson_corr = google_corr.corr(method='pearson')\n",
    "print(\"Google: %.3f\" %ggl_pearson_corr['fetch_time']['ttfb_avg'])\n",
    "\n",
    "youtube_corr = youtube[['fetch_time', 'ttfb_avg']]\n",
    "ut_pearson_corr = youtube_corr.corr(method='pearson')\n",
    "print(\"YouTube: %.3f\" %ut_pearson_corr['fetch_time']['ttfb_avg'])\n",
    "\n",
    "data_corr = data[['fetch_time', 'ttfb_avg']]\n",
    "d_pearson_corr = data_corr.corr(method='pearson')\n",
    "print(\"All: %.3f\" %d_pearson_corr['fetch_time']['ttfb_avg'])"
   ]
  },
  {
   "cell_type": "code",
   "execution_count": null,
   "metadata": {},
   "outputs": [],
   "source": []
  },
  {
   "cell_type": "code",
   "execution_count": 11,
   "metadata": {},
   "outputs": [
    {
     "name": "stdout",
     "output_type": "stream",
     "text": [
      "20.970498213370522\n"
     ]
    }
   ],
   "source": [
    "# calculate the number of runs... \n",
    "google_probes = Util.tables_unit(google)\n",
    "n = []\n",
    "for p in set(google['unit_id']):\n",
    "    google_by_date = Util.tables_date(google_probes[p])\n",
    "    m = []\n",
    "    for d in set(google_probes[p]['dtime']):\n",
    "        m.append(len(google_by_date[d]['dtime']))\n",
    "    n.append(np.mean(m))\n",
    "print(np.mean(n))"
   ]
  },
  {
   "cell_type": "code",
   "execution_count": 12,
   "metadata": {},
   "outputs": [],
   "source": [
    "# Group data first by probe ID, then by dtime (time)\n",
    "google_grouped = google.groupby([\"dtime\"])\n",
    "facebook_grouped = facebook.groupby([\"dtime\"])\n",
    "youtube_grouped = youtube.groupby([\"dtime\"])"
   ]
  },
  {
   "cell_type": "code",
   "execution_count": 13,
   "metadata": {},
   "outputs": [],
   "source": [
    "# For each group, calculate the average of only the snow_depth column\n",
    "google_ft_daily_median = google_grouped.aggregate({\"fetch_time\":np.median})\n",
    "google_ttfb_daily_median = google_grouped.aggregate({\"ttfb_avg\":np.median})\n",
    "google_dnst_daily_median = google_grouped.aggregate({\"lookup_avg_time\":np.median})\n",
    "\n",
    "facebook_ft_daily_median = facebook_grouped.aggregate({\"fetch_time\":np.median})\n",
    "facebook_ttfb_daily_median = facebook_grouped.aggregate({\"ttfb_avg\":np.median})\n",
    "facebook_dnst_daily_median = facebook_grouped.aggregate({\"lookup_avg_time\":np.median})\n",
    "\n",
    "youtube_ft_daily_median = youtube_grouped.aggregate({\"fetch_time\":np.median})\n",
    "youtube_ttfb_daily_median = youtube_grouped.aggregate({\"ttfb_avg\":np.median})\n",
    "youtube_dnst_daily_median = youtube_grouped.aggregate({\"lookup_avg_time\":np.median})"
   ]
  },
  {
   "cell_type": "code",
   "execution_count": 14,
   "metadata": {},
   "outputs": [],
   "source": [
    "ggl_df = pd.DataFrame({'dtime':google_ft_daily_median.fetch_time.index,\\\n",
    "                          'fetch_time':google_ft_daily_median.fetch_time.values,\\\n",
    "                          'ttfb_avg':google_ttfb_daily_median.ttfb_avg.values,\\\n",
    "                          'lookup_avg_time':google_dnst_daily_median.lookup_avg_time.values})\n",
    "\n",
    "fb_df = pd.DataFrame({'dtime':facebook_ft_daily_median.fetch_time.index,\\\n",
    "                          'fetch_time':facebook_ft_daily_median.fetch_time.values,\\\n",
    "                          'ttfb_avg':facebook_ttfb_daily_median.ttfb_avg.values,\\\n",
    "                          'lookup_avg_time':facebook_dnst_daily_median.lookup_avg_time.values})\n",
    "\n",
    "ut_df = pd.DataFrame({'dtime':youtube_ft_daily_median.fetch_time.index,\\\n",
    "                          'fetch_time':youtube_ft_daily_median.fetch_time.values,\\\n",
    "                          'ttfb_avg':youtube_ttfb_daily_median.ttfb_avg.values,\\\n",
    "                          'lookup_avg_time':youtube_dnst_daily_median.lookup_avg_time.values})"
   ]
  },
  {
   "cell_type": "code",
   "execution_count": 15,
   "metadata": {},
   "outputs": [],
   "source": [
    "fb_df['dtime'] = fb_df['dtime'].apply(lambda x: dt.strptime(x,'%Y-%m-%d'))\n",
    "ggl_df['dtime'] = ggl_df['dtime'].apply(lambda x: dt.strptime(x,'%Y-%m-%d'))\n",
    "ut_df['dtime'] = ut_df['dtime'].apply(lambda x: dt.strptime(x,'%Y-%m-%d'))"
   ]
  },
  {
   "cell_type": "code",
   "execution_count": 16,
   "metadata": {},
   "outputs": [
    {
     "data": {
      "text/plain": [
       "dtime              1278\n",
       "fetch_time         1278\n",
       "ttfb_avg           1278\n",
       "lookup_avg_time    1278\n",
       "dtype: int64"
      ]
     },
     "execution_count": 16,
     "metadata": {},
     "output_type": "execute_result"
    }
   ],
   "source": [
    "ut_df.count()"
   ]
  },
  {
   "cell_type": "code",
   "execution_count": 17,
   "metadata": {},
   "outputs": [],
   "source": [
    "# throughput daily median \n",
    "thrput_grouped = data.groupby(['dtime'])\n",
    "thrput_daily_median = thrput_grouped.aggregate({\"bytes_sec\": np.median})\n",
    "\n",
    "thrput_df = pd.DataFrame({'dtime': thrput_daily_median.bytes_sec.index,\\\n",
    "                         'thrput': thrput_daily_median.bytes_sec.values})\n",
    "thrput_df['dtime'] = thrput_df['dtime'].apply(lambda x: dt.strptime(x,'%Y-%m-%d'))\n",
    "thrput_df['thrput'] = thrput_df['thrput'].div(100000) #Megabit per second"
   ]
  },
  {
   "cell_type": "code",
   "execution_count": 18,
   "metadata": {},
   "outputs": [
    {
     "data": {
      "text/html": [
       "<div>\n",
       "<style scoped>\n",
       "    .dataframe tbody tr th:only-of-type {\n",
       "        vertical-align: middle;\n",
       "    }\n",
       "\n",
       "    .dataframe tbody tr th {\n",
       "        vertical-align: top;\n",
       "    }\n",
       "\n",
       "    .dataframe thead th {\n",
       "        text-align: right;\n",
       "    }\n",
       "</style>\n",
       "<table border=\"1\" class=\"dataframe\">\n",
       "  <thead>\n",
       "    <tr style=\"text-align: right;\">\n",
       "      <th></th>\n",
       "      <th>dtime</th>\n",
       "      <th>thrput</th>\n",
       "    </tr>\n",
       "  </thead>\n",
       "  <tbody>\n",
       "    <tr>\n",
       "      <th>0</th>\n",
       "      <td>2014-01-01</td>\n",
       "      <td>4.25909</td>\n",
       "    </tr>\n",
       "    <tr>\n",
       "      <th>1</th>\n",
       "      <td>2014-01-02</td>\n",
       "      <td>4.30846</td>\n",
       "    </tr>\n",
       "    <tr>\n",
       "      <th>2</th>\n",
       "      <td>2014-01-03</td>\n",
       "      <td>4.32258</td>\n",
       "    </tr>\n",
       "    <tr>\n",
       "      <th>3</th>\n",
       "      <td>2014-01-04</td>\n",
       "      <td>4.41645</td>\n",
       "    </tr>\n",
       "    <tr>\n",
       "      <th>4</th>\n",
       "      <td>2014-01-05</td>\n",
       "      <td>4.43479</td>\n",
       "    </tr>\n",
       "  </tbody>\n",
       "</table>\n",
       "</div>"
      ],
      "text/plain": [
       "       dtime   thrput\n",
       "0 2014-01-01  4.25909\n",
       "1 2014-01-02  4.30846\n",
       "2 2014-01-03  4.32258\n",
       "3 2014-01-04  4.41645\n",
       "4 2014-01-05  4.43479"
      ]
     },
     "execution_count": 18,
     "metadata": {},
     "output_type": "execute_result"
    }
   ],
   "source": [
    "thrput_df.head()"
   ]
  },
  {
   "cell_type": "code",
   "execution_count": null,
   "metadata": {},
   "outputs": [],
   "source": []
  },
  {
   "cell_type": "code",
   "execution_count": 21,
   "metadata": {},
   "outputs": [],
   "source": [
    "# Size daily median \n",
    "# Facebook\n",
    "fb_bytes_grouped = facebook.groupby(['dtime'])\n",
    "fb_bytes_daily_median = fb_bytes_grouped.aggregate({\"bytes_total\": np.median})\n",
    "fb_bytes_df = pd.DataFrame({'dtime': fb_bytes_daily_median.bytes_total.index,\\\n",
    "                         'bytes_tot': fb_bytes_daily_median.bytes_total.values})\n",
    "fb_bytes_df['dtime'] = fb_bytes_df['dtime'].apply(lambda x: dt.strptime(x,'%Y-%m-%d'))\n",
    "fb_bytes_df['bytes_tot'] = fb_bytes_df['bytes_tot'].div(1000) #Kilobytes\n",
    "\n",
    "# Google \n",
    "ggl_bytes_grouped = google.groupby(['dtime'])\n",
    "ggl_bytes_daily_median = ggl_bytes_grouped.aggregate({\"bytes_total\": np.median})\n",
    "ggl_bytes_df = pd.DataFrame({'dtime': ggl_bytes_daily_median.bytes_total.index,\\\n",
    "                         'bytes_tot': ggl_bytes_daily_median.bytes_total.values})\n",
    "ggl_bytes_df['dtime'] = ggl_bytes_df['dtime'].apply(lambda x: dt.strptime(x,'%Y-%m-%d'))\n",
    "ggl_bytes_df['bytes_tot'] = ggl_bytes_df['bytes_tot'].div(1000) #Kilobytes\n",
    "\n",
    "# YouTube\n",
    "ut_bytes_grouped = youtube.groupby(['dtime'])\n",
    "ut_bytes_daily_median = ut_bytes_grouped.aggregate({\"bytes_total\": np.median})\n",
    "ut_bytes_df = pd.DataFrame({'dtime': ut_bytes_daily_median.bytes_total.index,\\\n",
    "                         'bytes_tot': ut_bytes_daily_median.bytes_total.values})\n",
    "ut_bytes_df['dtime'] = ut_bytes_df['dtime'].apply(lambda x: dt.strptime(x,'%Y-%m-%d'))\n",
    "ut_bytes_df['bytes_tot'] = ut_bytes_df['bytes_tot'].div(1000) #Kilobytes"
   ]
  },
  {
   "cell_type": "code",
   "execution_count": 22,
   "metadata": {},
   "outputs": [],
   "source": [
    "# Size daily median \n",
    "# Facebook\n",
    "fb_objects_grouped = facebook.groupby(['dtime'])\n",
    "fb_objects_daily_median = fb_objects_grouped.aggregate({\"objects\": np.median})\n",
    "fb_objects_df = pd.DataFrame({'dtime': fb_objects_daily_median.objects.index,\\\n",
    "                         'objects': fb_objects_daily_median.objects.values})\n",
    "fb_objects_df['dtime'] = fb_objects_df['dtime'].apply(lambda x: dt.strptime(x,'%Y-%m-%d'))\n",
    "\n",
    "# Google \n",
    "ggl_objects_grouped = google.groupby(['dtime'])\n",
    "ggl_objects_daily_median = ggl_objects_grouped.aggregate({\"objects\": np.median})\n",
    "ggl_objects_df = pd.DataFrame({'dtime': ggl_objects_daily_median.objects.index,\\\n",
    "                         'objects': ggl_objects_daily_median.objects.values})\n",
    "ggl_objects_df['dtime'] = ggl_objects_df['dtime'].apply(lambda x: dt.strptime(x,'%Y-%m-%d'))\n",
    "\n",
    "# YouTube\n",
    "ut_objects_grouped = youtube.groupby(['dtime'])\n",
    "ut_objects_daily_median = ut_objects_grouped.aggregate({\"objects\": np.median})\n",
    "ut_objects_df = pd.DataFrame({'dtime': ut_objects_daily_median.objects.index,\\\n",
    "                         'objects': ut_objects_daily_median.objects.values})\n",
    "ut_objects_df['dtime'] = ut_objects_df['dtime'].apply(lambda x: dt.strptime(x,'%Y-%m-%d'))"
   ]
  },
  {
   "cell_type": "code",
   "execution_count": 23,
   "metadata": {},
   "outputs": [],
   "source": [
    "# bytes dataframe \n",
    "bytes_df = fb_bytes_df\n",
    "bytes_df['google'] = ggl_bytes_df['bytes_tot']\n",
    "bytes_df['youtube'] = ut_bytes_df['bytes_tot']\n",
    "bytes_df=bytes_df.rename(columns = {'bytes_tot':'facebook'})"
   ]
  },
  {
   "cell_type": "code",
   "execution_count": 24,
   "metadata": {},
   "outputs": [],
   "source": [
    "# number of objects dataframe \n",
    "objects_df = fb_objects_df\n",
    "objects_df['google'] = ggl_objects_df['objects']\n",
    "objects_df['youtube'] = ut_objects_df['objects']\n",
    "objects_df=objects_df.rename(columns = {'objects':'facebook'})"
   ]
  },
  {
   "cell_type": "code",
   "execution_count": 26,
   "metadata": {},
   "outputs": [],
   "source": [
    "ggl_df = ggl_bytes_df\n",
    "ggl_df['objects'] = ggl_objects_df['objects']"
   ]
  },
  {
   "cell_type": "code",
   "execution_count": 27,
   "metadata": {},
   "outputs": [
    {
     "data": {
      "text/html": [
       "<div>\n",
       "<style scoped>\n",
       "    .dataframe tbody tr th:only-of-type {\n",
       "        vertical-align: middle;\n",
       "    }\n",
       "\n",
       "    .dataframe tbody tr th {\n",
       "        vertical-align: top;\n",
       "    }\n",
       "\n",
       "    .dataframe thead th {\n",
       "        text-align: right;\n",
       "    }\n",
       "</style>\n",
       "<table border=\"1\" class=\"dataframe\">\n",
       "  <thead>\n",
       "    <tr style=\"text-align: right;\">\n",
       "      <th></th>\n",
       "      <th>dtime</th>\n",
       "      <th>bytes_tot</th>\n",
       "      <th>objects</th>\n",
       "    </tr>\n",
       "  </thead>\n",
       "  <tbody>\n",
       "    <tr>\n",
       "      <th>0</th>\n",
       "      <td>2014-01-01</td>\n",
       "      <td>1405.186</td>\n",
       "      <td>31</td>\n",
       "    </tr>\n",
       "    <tr>\n",
       "      <th>1</th>\n",
       "      <td>2014-01-02</td>\n",
       "      <td>1405.186</td>\n",
       "      <td>31</td>\n",
       "    </tr>\n",
       "    <tr>\n",
       "      <th>2</th>\n",
       "      <td>2014-01-03</td>\n",
       "      <td>1405.186</td>\n",
       "      <td>31</td>\n",
       "    </tr>\n",
       "    <tr>\n",
       "      <th>3</th>\n",
       "      <td>2014-01-04</td>\n",
       "      <td>1405.186</td>\n",
       "      <td>31</td>\n",
       "    </tr>\n",
       "    <tr>\n",
       "      <th>4</th>\n",
       "      <td>2014-01-05</td>\n",
       "      <td>1405.186</td>\n",
       "      <td>31</td>\n",
       "    </tr>\n",
       "  </tbody>\n",
       "</table>\n",
       "</div>"
      ],
      "text/plain": [
       "       dtime  bytes_tot  objects\n",
       "0 2014-01-01   1405.186       31\n",
       "1 2014-01-02   1405.186       31\n",
       "2 2014-01-03   1405.186       31\n",
       "3 2014-01-04   1405.186       31\n",
       "4 2014-01-05   1405.186       31"
      ]
     },
     "execution_count": 27,
     "metadata": {},
     "output_type": "execute_result"
    }
   ],
   "source": [
    "ggl_df.head()"
   ]
  },
  {
   "cell_type": "code",
   "execution_count": 28,
   "metadata": {},
   "outputs": [
    {
     "data": {
      "image/png": "[encoded data removed]",
      "text/plain": [
       "<Figure size 360x216 with 2 Axes>"
      ]
     },
     "metadata": {
      "needs_background": "light"
     },
     "output_type": "display_data"
    }
   ],
   "source": [
    "fig = plt.figure(figsize=(5, 3))\n",
    "plt.rcParams['font.size'] = 12\n",
    "\n",
    "ax1 = fig.add_subplot(211)\n",
    "\n",
    "byt_plt = ggl_df.plot(x='dtime'\n",
    "             , y=['bytes_tot']\n",
    "             , color=['black']\n",
    "             , kind='line'\n",
    "             , linewidth = 1.5\n",
    "             , linestyle = '--'\n",
    "             , ax = ax1\n",
    "             , stacked = False\n",
    "            )\n",
    "\n",
    "ax1.grid(False)\n",
    "ax1.set_xlabel('', fontsize= 12)\n",
    "ax1.set_ylabel('Size [KB]', fontsize=12)\n",
    "ax1.set_yscale('log')\n",
    "ax1.set_ylim(10, 5000)\n",
    "\n",
    "ax1.spines['right'].set_color('none')\n",
    "ax1.spines['top'].set_color('none')\n",
    "ax1.yaxis.set_ticks_position('left')\n",
    "ax1.xaxis.set_ticks_position('bottom')\n",
    "ax1.spines['bottom'].set_position(('axes', -0.05))\n",
    "ax1.spines['left'].set_position(('axes', -0.05))\n",
    "\n",
    "ax1.set_title(Util.g_title, fontsize=12, y=1.05)\n",
    "\n",
    "ax1.legend_.remove()\n",
    "\n",
    "ax1_3 = ax1.twinx()\n",
    "\n",
    "byt_plt = ggl_df.plot(x='dtime'\n",
    "             , y=['objects']\n",
    "             , color=['black']\n",
    "             , kind='line'\n",
    "             , linewidth = 1.5\n",
    "             , linestyle = '-'\n",
    "             , ax = ax1_3\n",
    "             , stacked = False\n",
    "            )\n",
    "ax1_3.yaxis.set_ticks_position('right')\n",
    "ax1_3.set_ylabel('#', fontsize=12)\n",
    "ax1_3.set_yscale('log', basey = 2)\n",
    "ax1_3.set_ylim(8, 60)\n",
    "\n",
    "ax1_3.spines['left'].set_color('none')\n",
    "ax1_3.spines['top'].set_color('none')\n",
    "ax1_3.spines['bottom'].set_color('none')\n",
    "ax1_3.yaxis.set_ticks_position('right')\n",
    "ax1_3.xaxis.set_ticks_position('bottom')\n",
    "ax1_3.spines['right'].set_position(('axes', 1.05))\n",
    "\n",
    "plt.setp(ax1_3.get_yticklabels(), visible=True)\n",
    "\n",
    "leg = ax1.legend([\"Webpage Size\"], \n",
    "           fontsize=12, markerscale=7. ,loc='lower right', bbox_to_anchor=(0.58, 0.20), frameon=False)\n",
    "for legobj in leg.legendHandles:\n",
    "    legobj.set_linewidth(1.5)\n",
    "    \n",
    "leg = ax1_3.legend([\"Number of Objects\"], \n",
    "            fontsize=12, markerscale=7. ,loc='lower right', bbox_to_anchor=(0.67, 0.008), frameon=False)\n",
    "for legobj in leg.legendHandles:\n",
    "    legobj.set_linewidth(1.5)\n",
    "\n",
    "fig.subplots_adjust(hspace = 0.4)\n",
    "plt.savefig('../gfx/google_complexity_ts.pdf', format='pdf', bbox_inches='tight')"
   ]
  },
  {
   "cell_type": "code",
   "execution_count": 29,
   "metadata": {},
   "outputs": [
    {
     "data": {
      "text/html": [
       "<div>\n",
       "<style scoped>\n",
       "    .dataframe tbody tr th:only-of-type {\n",
       "        vertical-align: middle;\n",
       "    }\n",
       "\n",
       "    .dataframe tbody tr th {\n",
       "        vertical-align: top;\n",
       "    }\n",
       "\n",
       "    .dataframe thead th {\n",
       "        text-align: right;\n",
       "    }\n",
       "</style>\n",
       "<table border=\"1\" class=\"dataframe\">\n",
       "  <thead>\n",
       "    <tr style=\"text-align: right;\">\n",
       "      <th></th>\n",
       "      <th>dtime</th>\n",
       "      <th>facebook</th>\n",
       "      <th>google</th>\n",
       "      <th>youtube</th>\n",
       "    </tr>\n",
       "  </thead>\n",
       "  <tbody>\n",
       "    <tr>\n",
       "      <th>1273</th>\n",
       "      <td>2017-06-27</td>\n",
       "      <td>137.2470</td>\n",
       "      <td>227.808</td>\n",
       "      <td>552.646</td>\n",
       "    </tr>\n",
       "    <tr>\n",
       "      <th>1274</th>\n",
       "      <td>2017-06-28</td>\n",
       "      <td>137.4120</td>\n",
       "      <td>227.808</td>\n",
       "      <td>554.725</td>\n",
       "    </tr>\n",
       "    <tr>\n",
       "      <th>1275</th>\n",
       "      <td>2017-06-29</td>\n",
       "      <td>134.8730</td>\n",
       "      <td>227.808</td>\n",
       "      <td>554.639</td>\n",
       "    </tr>\n",
       "    <tr>\n",
       "      <th>1276</th>\n",
       "      <td>2017-06-30</td>\n",
       "      <td>140.9780</td>\n",
       "      <td>227.808</td>\n",
       "      <td>554.675</td>\n",
       "    </tr>\n",
       "    <tr>\n",
       "      <th>1277</th>\n",
       "      <td>2017-07-01</td>\n",
       "      <td>137.0485</td>\n",
       "      <td>227.808</td>\n",
       "      <td>554.655</td>\n",
       "    </tr>\n",
       "  </tbody>\n",
       "</table>\n",
       "</div>"
      ],
      "text/plain": [
       "          dtime  facebook   google  youtube\n",
       "1273 2017-06-27  137.2470  227.808  552.646\n",
       "1274 2017-06-28  137.4120  227.808  554.725\n",
       "1275 2017-06-29  134.8730  227.808  554.639\n",
       "1276 2017-06-30  140.9780  227.808  554.675\n",
       "1277 2017-07-01  137.0485  227.808  554.655"
      ]
     },
     "execution_count": 29,
     "metadata": {},
     "output_type": "execute_result"
    }
   ],
   "source": [
    "bytes_df.tail()"
   ]
  },
  {
   "cell_type": "code",
   "execution_count": null,
   "metadata": {},
   "outputs": [],
   "source": []
  }
 ],
 "metadata": {
  "kernelspec": {
   "display_name": "Python 3",
   "language": "python",
   "name": "python3"
  },
  "language_info": {
   "codemirror_mode": {
    "name": "ipython",
    "version": 3
   },
   "file_extension": ".py",
   "mimetype": "text/x-python",
   "name": "python",
   "nbconvert_exporter": "python",
   "pygments_lexer": "ipython3",
   "version": "3.7.1"
  }
 },
 "nbformat": 4,
 "nbformat_minor": 2
}

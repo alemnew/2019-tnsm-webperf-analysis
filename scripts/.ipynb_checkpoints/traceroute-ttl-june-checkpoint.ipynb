{
 "cells": [
  {
   "cell_type": "code",
   "execution_count": 1,
   "metadata": {},
   "outputs": [],
   "source": [
    "import numpy as np\n",
    "import pandas as pd\n",
    "import matplotlib.pyplot as plt\n",
    "import json\n",
    "import requests \n",
    "from imp import reload \n",
    "import Util; reload(Util)\n",
    "import Cdf\n",
    "import Pmf\n",
    "import warnings\n",
    "from matplotlib.ticker import FuncFormatter\n",
    "warnings.filterwarnings('ignore')\n",
    "%matplotlib inline"
   ]
  },
  {
   "cell_type": "code",
   "execution_count": 2,
   "metadata": {},
   "outputs": [],
   "source": [
    "google_data = pd.read_csv('../dataset/google-jun.csv', sep = ',', encoding = \"ISO-8859-1\")\n",
    "fb_data = pd.read_csv('../dataset/facebook-jun.csv', sep = ',', encoding = \"ISO-8859-1\")\n",
    "ut_data = pd.read_csv('../dataset/youtube-jun.csv', sep = ',', encoding = \"ISO-8859-1\")\n",
    "google_asn = [15169, 43515, 36040]"
   ]
  },
  {
   "cell_type": "code",
   "execution_count": 13,
   "metadata": {},
   "outputs": [
    {
     "data": {
      "text/html": [
       "<div>\n",
       "<style scoped>\n",
       "    .dataframe tbody tr th:only-of-type {\n",
       "        vertical-align: middle;\n",
       "    }\n",
       "\n",
       "    .dataframe tbody tr th {\n",
       "        vertical-align: top;\n",
       "    }\n",
       "\n",
       "    .dataframe thead th {\n",
       "        text-align: right;\n",
       "    }\n",
       "</style>\n",
       "<table border=\"1\" class=\"dataframe\">\n",
       "  <thead>\n",
       "    <tr style=\"text-align: right;\">\n",
       "      <th></th>\n",
       "      <th>asn</th>\n",
       "      <th>destination</th>\n",
       "      <th>holder</th>\n",
       "      <th>isp_cache</th>\n",
       "      <th>service</th>\n",
       "      <th>skunitid</th>\n",
       "      <th>timestamp</th>\n",
       "      <th>ttl</th>\n",
       "    </tr>\n",
       "  </thead>\n",
       "  <tbody>\n",
       "    <tr>\n",
       "      <th>0</th>\n",
       "      <td>4773</td>\n",
       "      <td>103.1.139.144</td>\n",
       "      <td>MOBILEONELTD-AS-AP MobileOne Ltd. Mobile/Inter...</td>\n",
       "      <td>1</td>\n",
       "      <td>www.google.com</td>\n",
       "      <td>663066</td>\n",
       "      <td>2015-06-15</td>\n",
       "      <td>6</td>\n",
       "    </tr>\n",
       "    <tr>\n",
       "      <th>1</th>\n",
       "      <td>4773</td>\n",
       "      <td>103.1.139.144</td>\n",
       "      <td>MOBILEONELTD-AS-AP MobileOne Ltd. Mobile/Inter...</td>\n",
       "      <td>1</td>\n",
       "      <td>www.google.com</td>\n",
       "      <td>663066</td>\n",
       "      <td>2015-06-16</td>\n",
       "      <td>6</td>\n",
       "    </tr>\n",
       "    <tr>\n",
       "      <th>2</th>\n",
       "      <td>4773</td>\n",
       "      <td>103.1.139.144</td>\n",
       "      <td>MOBILEONELTD-AS-AP MobileOne Ltd. Mobile/Inter...</td>\n",
       "      <td>1</td>\n",
       "      <td>www.google.com</td>\n",
       "      <td>663066</td>\n",
       "      <td>2015-06-17</td>\n",
       "      <td>6</td>\n",
       "    </tr>\n",
       "    <tr>\n",
       "      <th>3</th>\n",
       "      <td>4773</td>\n",
       "      <td>103.1.139.144</td>\n",
       "      <td>MOBILEONELTD-AS-AP MobileOne Ltd. Mobile/Inter...</td>\n",
       "      <td>1</td>\n",
       "      <td>www.google.com</td>\n",
       "      <td>663066</td>\n",
       "      <td>2015-06-23</td>\n",
       "      <td>6</td>\n",
       "    </tr>\n",
       "    <tr>\n",
       "      <th>4</th>\n",
       "      <td>4773</td>\n",
       "      <td>103.1.139.144</td>\n",
       "      <td>MOBILEONELTD-AS-AP MobileOne Ltd. Mobile/Inter...</td>\n",
       "      <td>1</td>\n",
       "      <td>www.google.com</td>\n",
       "      <td>663066</td>\n",
       "      <td>2015-06-24</td>\n",
       "      <td>6</td>\n",
       "    </tr>\n",
       "  </tbody>\n",
       "</table>\n",
       "</div>"
      ],
      "text/plain": [
       "    asn    destination                                             holder  \\\n",
       "0  4773  103.1.139.144  MOBILEONELTD-AS-AP MobileOne Ltd. Mobile/Inter...   \n",
       "1  4773  103.1.139.144  MOBILEONELTD-AS-AP MobileOne Ltd. Mobile/Inter...   \n",
       "2  4773  103.1.139.144  MOBILEONELTD-AS-AP MobileOne Ltd. Mobile/Inter...   \n",
       "3  4773  103.1.139.144  MOBILEONELTD-AS-AP MobileOne Ltd. Mobile/Inter...   \n",
       "4  4773  103.1.139.144  MOBILEONELTD-AS-AP MobileOne Ltd. Mobile/Inter...   \n",
       "\n",
       "   isp_cache         service  skunitid   timestamp  ttl  \n",
       "0          1  www.google.com    663066  2015-06-15    6  \n",
       "1          1  www.google.com    663066  2015-06-16    6  \n",
       "2          1  www.google.com    663066  2015-06-17    6  \n",
       "3          1  www.google.com    663066  2015-06-23    6  \n",
       "4          1  www.google.com    663066  2015-06-24    6  "
      ]
     },
     "execution_count": 13,
     "metadata": {},
     "output_type": "execute_result"
    }
   ],
   "source": [
    "google_data.head()"
   ]
  },
  {
   "cell_type": "code",
   "execution_count": 3,
   "metadata": {},
   "outputs": [
    {
     "data": {
      "text/plain": [
       "121094"
      ]
     },
     "execution_count": 3,
     "metadata": {},
     "output_type": "execute_result"
    }
   ],
   "source": [
    "len(ut_data.index)"
   ]
  },
  {
   "cell_type": "code",
   "execution_count": 4,
   "metadata": {},
   "outputs": [
    {
     "data": {
      "text/plain": [
       "74"
      ]
     },
     "execution_count": 4,
     "metadata": {},
     "output_type": "execute_result"
    }
   ],
   "source": [
    "len(set(google_data['holder']))\n",
    "# for a in sorted(set(google_data['holder'])):\n",
    "#     print(\"{} = {} \".format(set(google_data[google_data['holder'] == a]['asn']), a))\n"
   ]
  },
  {
   "cell_type": "code",
   "execution_count": 5,
   "metadata": {},
   "outputs": [
    {
     "data": {
      "text/plain": [
       "28"
      ]
     },
     "execution_count": 5,
     "metadata": {},
     "output_type": "execute_result"
    }
   ],
   "source": [
    "len(set(ut_data[ut_data['isp_cache'] ==0]['holder']))\n",
    "# for a in set(ut_data['holder']):\n",
    "#     print(\"{} = {} \".format(set(ut_data[ut_data['holder'] == a]['asn']), a))\n"
   ]
  },
  {
   "cell_type": "code",
   "execution_count": 6,
   "metadata": {},
   "outputs": [
    {
     "name": "stdout",
     "output_type": "stream",
     "text": [
      "Number of probes that have Google Cache: 33 = 0.35\n",
      "Number of probes that have not Google Cache: 95 = 1.0\n",
      "Number of probes : 95\n",
      "Number of probes that have YouTube Cache: 32 = 0.34\n",
      "Number of probes that have not YouTube Cache: 95 = 1.0\n",
      "Number of probes : 95\n"
     ]
    }
   ],
   "source": [
    "print(\"Number of probes that have Google Cache: {} = {}\" .format(\n",
    "    len(set(google_data[google_data['isp_cache'] == 1]['skunitid'])), \n",
    "    round(len(set(google_data[google_data['isp_cache'] == 1]['skunitid']))/len(set(google_data['skunitid'])) , 2)))\n",
    "print(\"Number of probes that have not Google Cache: {} = {}\".format(\n",
    "    len(set(google_data[google_data['isp_cache'] == 0]['skunitid'])),\n",
    "    round(len(set(google_data[google_data['isp_cache'] == 0]['skunitid']))/len(set(google_data['skunitid'])), 2)))\n",
    "print(\"Number of probes : %d\"%len(set(google_data['skunitid'])))\n",
    "\n",
    "print(\"Number of probes that have YouTube Cache: {} = {}\" .format(\n",
    "    len(set(ut_data[ut_data['isp_cache'] == 1]['skunitid'])), \n",
    "    round(len(set(ut_data[ut_data['isp_cache'] == 1]['skunitid']))/len(set(ut_data['skunitid'])) , 2)))\n",
    "print(\"Number of probes that have not YouTube Cache: {} = {}\".format(\n",
    "    len(set(ut_data[ut_data['isp_cache'] == 0]['skunitid'])),\n",
    "    round(len(set(ut_data[ut_data['isp_cache'] == 0]['skunitid']))/len(set(ut_data['skunitid'])), 2)))\n",
    "print(\"Number of probes : %d\"%len(set(ut_data['skunitid'])))"
   ]
  },
  {
   "cell_type": "markdown",
   "metadata": {},
   "source": [
    "# CDF of TTL for Google, Facebook and YouTube"
   ]
  },
  {
   "cell_type": "code",
   "execution_count": 7,
   "metadata": {},
   "outputs": [],
   "source": [
    "ut_no_cache = ut_data[ut_data['isp_cache'] == 0]\n",
    "ggl_no_cache = google_data[google_data['isp_cache'] == 0]\n",
    "ut_cache = ut_data[ut_data['isp_cache'] == 1]\n",
    "ggl_cache = google_data[google_data['isp_cache'] == 1]\n",
    "\n",
    "fb_ttl = np.rint(fb_data['ttl'])\n",
    "\n",
    "ggl_isp_cache_ttl = np.rint(ggl_cache['ttl'])\n",
    "ggl_cdn_ttl = np.rint(ggl_no_cache[ggl_no_cache['asn'].isin(google_asn)]['ttl'])\n",
    "ggl_other_as_ttl = np.rint(ggl_no_cache[~ggl_no_cache['asn'].isin(google_asn)]['ttl'])\n",
    "\n",
    "ut_isp_cache_ttl = np.rint(ut_cache['ttl'])\n",
    "ut_cdn_ttl = np.rint(ut_no_cache[ut_no_cache['asn'].isin(google_asn)]['ttl'])\n",
    "ut_other_as_ttl = np.rint(ut_no_cache[~ut_no_cache['asn'].isin(google_asn)]['ttl'])"
   ]
  },
  {
   "cell_type": "code",
   "execution_count": 8,
   "metadata": {},
   "outputs": [
    {
     "name": "stdout",
     "output_type": "stream",
     "text": [
      "Google ISP:  29170 = 0.25\n",
      "Google CDN:  67753 = 0.59\n",
      "Google Other AS:  18760 = 0.16\n",
      "\n",
      "YouTube ISP:  28643 = 0.24\n",
      "YouTube CDN:  80223 = 0.66\n",
      "YouTube Other AS:  12228 = 0.1\n"
     ]
    }
   ],
   "source": [
    "print(\"Google ISP:  {} = {}\".format(len(ggl_cache.index), round(len(ggl_cache)/len(google_data.index) ,2)))\n",
    "print(\"Google CDN:  {} = {}\".format(len(ggl_no_cache[ggl_no_cache['asn'].isin(google_asn)].index), \n",
    "                                  round(len(ggl_no_cache[ggl_no_cache['asn'].isin(google_asn)].index)\n",
    "                                        /len(google_data.index) ,2)))\n",
    "print(\"Google Other AS:  {} = {}\".format(len(ggl_no_cache[~ggl_no_cache['asn'].isin(google_asn)].index), \n",
    "                                  round(len(ggl_no_cache[~ggl_no_cache['asn'].isin(google_asn)].index)\n",
    "                                        /len(google_data.index) ,2)))\n",
    "\n",
    "print(\"\\nYouTube ISP:  {} = {}\".format(len(ut_cache.index), round(len(ut_cache)/len(ut_data.index) ,2)))\n",
    "print(\"YouTube CDN:  {} = {}\".format(len(ut_no_cache[ut_no_cache['asn'].isin(google_asn)].index), \n",
    "                                  round(len(ut_no_cache[ut_no_cache['asn'].isin(google_asn)].index)\n",
    "                                        /len(ut_data.index) ,2)))\n",
    "print(\"YouTube Other AS:  {} = {}\".format(len(ut_no_cache[~ut_no_cache['asn'].isin(google_asn)].index), \n",
    "                                  round(len(ut_no_cache[~ut_no_cache['asn'].isin(google_asn)].index)\n",
    "                                        /len(ut_data.index) ,2)))"
   ]
  },
  {
   "cell_type": "code",
   "execution_count": 9,
   "metadata": {},
   "outputs": [],
   "source": [
    "cfttl = Cdf.MakeCdfFromList(fb_ttl)\n",
    "\n",
    "cg_cdn_ttl = Cdf.MakeCdfFromList(ggl_cdn_ttl)\n",
    "cg_isp_ttl = Cdf.MakeCdfFromList(ggl_isp_cache_ttl)\n",
    "cg_o_as_ttl = Cdf.MakeCdfFromList(ggl_other_as_ttl)\n",
    "\n",
    "cu_cdn_ttl = Cdf.MakeCdfFromList(ut_cdn_ttl)\n",
    "cu_isp_ttl = Cdf.MakeCdfFromList(ut_isp_cache_ttl)\n",
    "cu_o_as_ttl = Cdf.MakeCdfFromList(ut_other_as_ttl)"
   ]
  },
  {
   "cell_type": "code",
   "execution_count": 10,
   "metadata": {},
   "outputs": [
    {
     "data": {
      "image/png": "[encoded data removed]",
      "text/plain": [
       "<Figure size 360x126 with 2 Axes>"
      ]
     },
     "metadata": {
      "needs_background": "light"
     },
     "output_type": "display_data"
    }
   ],
   "source": [
    "fig = plt.figure(figsize=(5, 1.75))\n",
    "plt.rcParams['font.size'] = 12\n",
    "\n",
    "yticks = np.arange(0,1.1,0.25)\n",
    "\n",
    "plt.plot(cg_cdn_ttl.xs, cg_cdn_ttl.ps, marker='+', linewidth=1, markersize=5, \n",
    "         fillstyle='none', color = 'm', rasterized=True)\n",
    "plt.plot(cg_isp_ttl.xs, cg_isp_ttl.ps, marker='+', linewidth=1, markersize=5, \n",
    "         fillstyle='none', color = 'g', rasterized=True)\n",
    "plt.plot(cg_o_as_ttl.xs, cg_o_as_ttl.ps, marker='+', linewidth=1, markersize=5, \n",
    "         fillstyle='none', color = 'b', rasterized=True)\n",
    "\n",
    "plt.plot(cfttl.xs, cfttl.ps, marker='.', linewidth=1, linestyle='--', markersize=5, \n",
    "         fillstyle='none', color = 'k', rasterized=True)\n",
    "\n",
    "\n",
    "plt.plot(cu_cdn_ttl.xs, cu_cdn_ttl.ps, marker='+', linestyle = '--', linewidth=1, markersize=5, \n",
    "         fillstyle='none', color = 'r', rasterized=True)\n",
    "# plt.plot(cu_isp_ttl.xs, cu_isp_ttl.ps, marker='*', linewidth=1, markersize=5, \n",
    "#          fillstyle='none', color = 'green', rasterized=True)\n",
    "plt.plot(cu_o_as_ttl.xs, cu_o_as_ttl.ps, marker='+', linewidth=1, markersize=5, \n",
    "         fillstyle='none', color = 'coral', rasterized=True)\n",
    "\n",
    "ylab = \"CDF \" #[%.2f M]\" %(len(cf4ttl.xs) / 1000000)\n",
    "\n",
    "ax = fig.axes[0]\n",
    "ax.grid(False)\n",
    "ax.set_yticks(yticks)\n",
    "ax.set_xlim([1,25])\n",
    "ax.set_ylim([0,1.05])\n",
    "ax.set_xscale('log', basex=2)\n",
    "ax.set_xlabel('IP Path Length', fontsize=12)\n",
    "ax.set_ylabel(ylab, fontsize=12)\n",
    "formatter = FuncFormatter(lambda y, _: '{:.16g}'.format(y))\n",
    "ax.xaxis.set_major_formatter(formatter)\n",
    "\n",
    "leg = ax.legend([\"G CDN\",\"G Cache\", \"G Cache @ other AS\", \"F CDN\", \n",
    "                 \"Y CDN\", \"Y Cache @other AS\"],\n",
    "           fontsize=12, markerscale=1., loc='top center', \n",
    "                   frameon=False)\n",
    "for legobj in leg.legendHandles:\n",
    "    legobj.set_linewidth(1)\n",
    "leg.get_frame().set_facecolor('none')\n",
    "\n",
    "ax.spines['right'].set_color('none')\n",
    "ax.spines['top'].set_color('none')\n",
    "ax.yaxis.set_ticks_position('left')\n",
    "ax.xaxis.set_ticks_position('bottom')\n",
    "ax.spines['bottom'].set_position(('axes', -0.05))\n",
    "ax.spines['left'].set_position(('axes', -0.05))\n",
    "\n",
    "ax3 = ax.twinx()\n",
    "ax3.spines['right'].set_color('none')\n",
    "ax3.spines['top'].set_color('none')\n",
    "ax3.spines['left'].set_color('none')\n",
    "ax3.spines['bottom'].set_color('none')\n",
    "ax3.yaxis.set_ticks_position('none')\n",
    "# ax3.set_ylabel('[\\'15 - \\'17]')\n",
    "plt.setp(ax3.get_yticklabels(), visible=False)\n",
    "\n",
    "plt.savefig('../gfx/tracerout_ggl_fb_ut_ttl.pdf', format='pdf', bbox_inches='tight')"
   ]
  }
 ],
 "metadata": {
  "kernelspec": {
   "display_name": "Python 3",
   "language": "python",
   "name": "python3"
  },
  "language_info": {
   "codemirror_mode": {
    "name": "ipython",
    "version": 3
   },
   "file_extension": ".py",
   "mimetype": "text/x-python",
   "name": "python",
   "nbconvert_exporter": "python",
   "pygments_lexer": "ipython3",
   "version": "3.7.1"
  }
 },
 "nbformat": 4,
 "nbformat_minor": 2
}
